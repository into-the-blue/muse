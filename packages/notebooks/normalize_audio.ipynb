{
 "cells": [
  {
   "cell_type": "code",
   "execution_count": 1,
   "id": "d50c16f8-9e70-47be-8c92-aaa5b74e2200",
   "metadata": {
    "tags": []
   },
   "outputs": [],
   "source": [
    "import pandas as pd\n",
    "import IPython"
   ]
  },
  {
   "cell_type": "code",
   "execution_count": 2,
   "id": "27e2adcf-d721-4202-b00a-3b30863b50f4",
   "metadata": {
    "tags": []
   },
   "outputs": [
    {
     "data": {
      "text/html": [
       "<div>\n",
       "<style scoped>\n",
       "    .dataframe tbody tr th:only-of-type {\n",
       "        vertical-align: middle;\n",
       "    }\n",
       "\n",
       "    .dataframe tbody tr th {\n",
       "        vertical-align: top;\n",
       "    }\n",
       "\n",
       "    .dataframe thead th {\n",
       "        text-align: right;\n",
       "    }\n",
       "</style>\n",
       "<table border=\"1\" class=\"dataframe\">\n",
       "  <thead>\n",
       "    <tr style=\"text-align: right;\">\n",
       "      <th></th>\n",
       "      <th>index</th>\n",
       "      <th>url</th>\n",
       "      <th>relative_path</th>\n",
       "      <th>year</th>\n",
       "      <th>group</th>\n",
       "      <th>instrument</th>\n",
       "      <th>subtype</th>\n",
       "      <th>dynamics</th>\n",
       "      <th>note</th>\n",
       "      <th>notes</th>\n",
       "      <th>tags</th>\n",
       "    </tr>\n",
       "  </thead>\n",
       "  <tbody>\n",
       "    <tr>\n",
       "      <th>0</th>\n",
       "      <td>0</td>\n",
       "      <td>https://theremin.music.uiowa.edu/sound files/M...</td>\n",
       "      <td>pre2012/woodwinds/oboe/default/Oboe.pp.Bb3B3.aiff</td>\n",
       "      <td>pre2012</td>\n",
       "      <td>woodwinds</td>\n",
       "      <td>oboe</td>\n",
       "      <td>NaN</td>\n",
       "      <td>pp</td>\n",
       "      <td>Bb3B3</td>\n",
       "      <td>['Bb3', 'B3']</td>\n",
       "      <td>['B3', 'Bb3', 'Bb3B3', 'oboe', 'woodwinds']</td>\n",
       "    </tr>\n",
       "    <tr>\n",
       "      <th>1</th>\n",
       "      <td>1</td>\n",
       "      <td>https://theremin.music.uiowa.edu/sound files/M...</td>\n",
       "      <td>pre2012/woodwinds/oboe/default/Oboe.pp.C4B4.aiff</td>\n",
       "      <td>pre2012</td>\n",
       "      <td>woodwinds</td>\n",
       "      <td>oboe</td>\n",
       "      <td>NaN</td>\n",
       "      <td>pp</td>\n",
       "      <td>C4B4</td>\n",
       "      <td>['C4', 'B4']</td>\n",
       "      <td>['C4', 'oboe', 'woodwinds', 'C4B4', 'B4']</td>\n",
       "    </tr>\n",
       "    <tr>\n",
       "      <th>2</th>\n",
       "      <td>2</td>\n",
       "      <td>https://theremin.music.uiowa.edu/sound files/M...</td>\n",
       "      <td>pre2012/woodwinds/oboe/default/Oboe.pp.C5B5.aiff</td>\n",
       "      <td>pre2012</td>\n",
       "      <td>woodwinds</td>\n",
       "      <td>oboe</td>\n",
       "      <td>NaN</td>\n",
       "      <td>pp</td>\n",
       "      <td>C5B5</td>\n",
       "      <td>['C5', 'B5']</td>\n",
       "      <td>['C5B5', 'C5', 'B5', 'oboe', 'woodwinds']</td>\n",
       "    </tr>\n",
       "    <tr>\n",
       "      <th>3</th>\n",
       "      <td>3</td>\n",
       "      <td>https://theremin.music.uiowa.edu/sound files/M...</td>\n",
       "      <td>pre2012/woodwinds/oboe/default/Oboe.pp.C6Ab6.aiff</td>\n",
       "      <td>pre2012</td>\n",
       "      <td>woodwinds</td>\n",
       "      <td>oboe</td>\n",
       "      <td>NaN</td>\n",
       "      <td>pp</td>\n",
       "      <td>C6Ab6</td>\n",
       "      <td>['C6', 'Ab6']</td>\n",
       "      <td>['Ab6', 'C6Ab6', 'C6', 'oboe', 'woodwinds']</td>\n",
       "    </tr>\n",
       "    <tr>\n",
       "      <th>4</th>\n",
       "      <td>4</td>\n",
       "      <td>https://theremin.music.uiowa.edu/sound files/M...</td>\n",
       "      <td>pre2012/woodwinds/oboe/default/Oboe.mf.Bb3B3.aiff</td>\n",
       "      <td>pre2012</td>\n",
       "      <td>woodwinds</td>\n",
       "      <td>oboe</td>\n",
       "      <td>NaN</td>\n",
       "      <td>mf</td>\n",
       "      <td>Bb3B3</td>\n",
       "      <td>['Bb3', 'B3']</td>\n",
       "      <td>['B3', 'Bb3', 'Bb3B3', 'oboe', 'woodwinds']</td>\n",
       "    </tr>\n",
       "  </tbody>\n",
       "</table>\n",
       "</div>"
      ],
      "text/plain": [
       "   index                                                url  \\\n",
       "0      0  https://theremin.music.uiowa.edu/sound files/M...   \n",
       "1      1  https://theremin.music.uiowa.edu/sound files/M...   \n",
       "2      2  https://theremin.music.uiowa.edu/sound files/M...   \n",
       "3      3  https://theremin.music.uiowa.edu/sound files/M...   \n",
       "4      4  https://theremin.music.uiowa.edu/sound files/M...   \n",
       "\n",
       "                                       relative_path     year      group  \\\n",
       "0  pre2012/woodwinds/oboe/default/Oboe.pp.Bb3B3.aiff  pre2012  woodwinds   \n",
       "1   pre2012/woodwinds/oboe/default/Oboe.pp.C4B4.aiff  pre2012  woodwinds   \n",
       "2   pre2012/woodwinds/oboe/default/Oboe.pp.C5B5.aiff  pre2012  woodwinds   \n",
       "3  pre2012/woodwinds/oboe/default/Oboe.pp.C6Ab6.aiff  pre2012  woodwinds   \n",
       "4  pre2012/woodwinds/oboe/default/Oboe.mf.Bb3B3.aiff  pre2012  woodwinds   \n",
       "\n",
       "  instrument subtype dynamics   note          notes  \\\n",
       "0       oboe     NaN       pp  Bb3B3  ['Bb3', 'B3']   \n",
       "1       oboe     NaN       pp   C4B4   ['C4', 'B4']   \n",
       "2       oboe     NaN       pp   C5B5   ['C5', 'B5']   \n",
       "3       oboe     NaN       pp  C6Ab6  ['C6', 'Ab6']   \n",
       "4       oboe     NaN       mf  Bb3B3  ['Bb3', 'B3']   \n",
       "\n",
       "                                          tags  \n",
       "0  ['B3', 'Bb3', 'Bb3B3', 'oboe', 'woodwinds']  \n",
       "1    ['C4', 'oboe', 'woodwinds', 'C4B4', 'B4']  \n",
       "2    ['C5B5', 'C5', 'B5', 'oboe', 'woodwinds']  \n",
       "3  ['Ab6', 'C6Ab6', 'C6', 'oboe', 'woodwinds']  \n",
       "4  ['B3', 'Bb3', 'Bb3B3', 'oboe', 'woodwinds']  "
      ]
     },
     "execution_count": 2,
     "metadata": {},
     "output_type": "execute_result"
    }
   ],
   "source": [
    "df = pd.read_csv('./output.csv',index_col=[0])\n",
    "df.head()"
   ]
  },
  {
   "cell_type": "code",
   "execution_count": 13,
   "id": "c24dc780-7804-423d-9df0-792fdcb2acb0",
   "metadata": {
    "tags": []
   },
   "outputs": [
    {
     "data": {
      "text/html": [
       "<div>\n",
       "<style scoped>\n",
       "    .dataframe tbody tr th:only-of-type {\n",
       "        vertical-align: middle;\n",
       "    }\n",
       "\n",
       "    .dataframe tbody tr th {\n",
       "        vertical-align: top;\n",
       "    }\n",
       "\n",
       "    .dataframe thead th {\n",
       "        text-align: right;\n",
       "    }\n",
       "</style>\n",
       "<table border=\"1\" class=\"dataframe\">\n",
       "  <thead>\n",
       "    <tr style=\"text-align: right;\">\n",
       "      <th></th>\n",
       "      <th>index</th>\n",
       "      <th>url</th>\n",
       "      <th>relative_path</th>\n",
       "      <th>year</th>\n",
       "      <th>group</th>\n",
       "      <th>instrument</th>\n",
       "      <th>subtype</th>\n",
       "      <th>dynamics</th>\n",
       "      <th>note</th>\n",
       "      <th>notes</th>\n",
       "      <th>tags</th>\n",
       "    </tr>\n",
       "  </thead>\n",
       "  <tbody>\n",
       "    <tr>\n",
       "      <th>0</th>\n",
       "      <td>587</td>\n",
       "      <td>https://theremin.music.uiowa.edu/sound files/M...</td>\n",
       "      <td>pre2012/piano/piano/default/Piano.pp.Bb0.aiff</td>\n",
       "      <td>pre2012</td>\n",
       "      <td>piano</td>\n",
       "      <td>piano</td>\n",
       "      <td>NaN</td>\n",
       "      <td>pp</td>\n",
       "      <td>Bb0</td>\n",
       "      <td>['Bb0']</td>\n",
       "      <td>['Bb0', 'piano']</td>\n",
       "    </tr>\n",
       "    <tr>\n",
       "      <th>1</th>\n",
       "      <td>588</td>\n",
       "      <td>https://theremin.music.uiowa.edu/sound files/M...</td>\n",
       "      <td>pre2012/piano/piano/default/Piano.pp.B0.aiff</td>\n",
       "      <td>pre2012</td>\n",
       "      <td>piano</td>\n",
       "      <td>piano</td>\n",
       "      <td>NaN</td>\n",
       "      <td>pp</td>\n",
       "      <td>B0</td>\n",
       "      <td>['B0']</td>\n",
       "      <td>['piano', 'B0']</td>\n",
       "    </tr>\n",
       "    <tr>\n",
       "      <th>2</th>\n",
       "      <td>589</td>\n",
       "      <td>https://theremin.music.uiowa.edu/sound files/M...</td>\n",
       "      <td>pre2012/piano/piano/default/Piano.pp.C1.aiff</td>\n",
       "      <td>pre2012</td>\n",
       "      <td>piano</td>\n",
       "      <td>piano</td>\n",
       "      <td>NaN</td>\n",
       "      <td>pp</td>\n",
       "      <td>C1</td>\n",
       "      <td>['C1']</td>\n",
       "      <td>['C1', 'piano']</td>\n",
       "    </tr>\n",
       "    <tr>\n",
       "      <th>3</th>\n",
       "      <td>590</td>\n",
       "      <td>https://theremin.music.uiowa.edu/sound files/M...</td>\n",
       "      <td>pre2012/piano/piano/default/Piano.pp.Db1.aiff</td>\n",
       "      <td>pre2012</td>\n",
       "      <td>piano</td>\n",
       "      <td>piano</td>\n",
       "      <td>NaN</td>\n",
       "      <td>pp</td>\n",
       "      <td>Db1</td>\n",
       "      <td>['Db1']</td>\n",
       "      <td>['Db1', 'piano']</td>\n",
       "    </tr>\n",
       "    <tr>\n",
       "      <th>4</th>\n",
       "      <td>591</td>\n",
       "      <td>https://theremin.music.uiowa.edu/sound files/M...</td>\n",
       "      <td>pre2012/piano/piano/default/Piano.pp.D1.aiff</td>\n",
       "      <td>pre2012</td>\n",
       "      <td>piano</td>\n",
       "      <td>piano</td>\n",
       "      <td>NaN</td>\n",
       "      <td>pp</td>\n",
       "      <td>D1</td>\n",
       "      <td>['D1']</td>\n",
       "      <td>['D1', 'piano']</td>\n",
       "    </tr>\n",
       "  </tbody>\n",
       "</table>\n",
       "</div>"
      ],
      "text/plain": [
       "   index                                                url  \\\n",
       "0    587  https://theremin.music.uiowa.edu/sound files/M...   \n",
       "1    588  https://theremin.music.uiowa.edu/sound files/M...   \n",
       "2    589  https://theremin.music.uiowa.edu/sound files/M...   \n",
       "3    590  https://theremin.music.uiowa.edu/sound files/M...   \n",
       "4    591  https://theremin.music.uiowa.edu/sound files/M...   \n",
       "\n",
       "                                   relative_path     year  group instrument  \\\n",
       "0  pre2012/piano/piano/default/Piano.pp.Bb0.aiff  pre2012  piano      piano   \n",
       "1   pre2012/piano/piano/default/Piano.pp.B0.aiff  pre2012  piano      piano   \n",
       "2   pre2012/piano/piano/default/Piano.pp.C1.aiff  pre2012  piano      piano   \n",
       "3  pre2012/piano/piano/default/Piano.pp.Db1.aiff  pre2012  piano      piano   \n",
       "4   pre2012/piano/piano/default/Piano.pp.D1.aiff  pre2012  piano      piano   \n",
       "\n",
       "  subtype dynamics note    notes              tags  \n",
       "0     NaN       pp  Bb0  ['Bb0']  ['Bb0', 'piano']  \n",
       "1     NaN       pp   B0   ['B0']   ['piano', 'B0']  \n",
       "2     NaN       pp   C1   ['C1']   ['C1', 'piano']  \n",
       "3     NaN       pp  Db1  ['Db1']  ['Db1', 'piano']  \n",
       "4     NaN       pp   D1   ['D1']   ['D1', 'piano']  "
      ]
     },
     "execution_count": 13,
     "metadata": {},
     "output_type": "execute_result"
    }
   ],
   "source": [
    "piano = df[df['instrument'] == 'piano']\n",
    "piano = piano.reset_index(drop=True)\n",
    "piano.head()"
   ]
  },
  {
   "cell_type": "code",
   "execution_count": 14,
   "id": "9bf5428a-9283-49c7-999c-c2b3883375d6",
   "metadata": {},
   "outputs": [
    {
     "data": {
      "text/plain": [
       "index             int64\n",
       "url              object\n",
       "relative_path    object\n",
       "year             object\n",
       "group            object\n",
       "instrument       object\n",
       "subtype          object\n",
       "dynamics         object\n",
       "note             object\n",
       "notes            object\n",
       "tags             object\n",
       "dtype: object"
      ]
     },
     "execution_count": 14,
     "metadata": {},
     "output_type": "execute_result"
    }
   ],
   "source": [
    "piano.dtypes"
   ]
  },
  {
   "cell_type": "code",
   "execution_count": 17,
   "id": "d25493a2-034b-4703-8350-2c557f33b2ab",
   "metadata": {},
   "outputs": [
    {
     "data": {
      "text/plain": [
       "index             int64\n",
       "url              object\n",
       "relative_path    object\n",
       "year             object\n",
       "group            object\n",
       "instrument       object\n",
       "subtype          object\n",
       "dynamics         object\n",
       "note             object\n",
       "notes            object\n",
       "tags             object\n",
       "dtype: object"
      ]
     },
     "execution_count": 17,
     "metadata": {},
     "output_type": "execute_result"
    }
   ],
   "source": [
    "piano = piano.astype({\n",
    "    'url': 'str',\n",
    "    'relative_path': 'str',\n",
    "    'year': 'str',\n",
    "    'group': 'str',\n",
    "    'instrument': 'str',\n",
    "    'subtype': 'str',\n",
    "    'dynamics': 'str',\n",
    "    'note': 'str'\n",
    "})\n",
    "piano.dtypes"
   ]
  },
  {
   "cell_type": "code",
   "execution_count": null,
   "id": "bb8f92a3-90c6-46b8-97b7-69ba0d6ddaa1",
   "metadata": {},
   "outputs": [],
   "source": []
  },
  {
   "cell_type": "code",
   "execution_count": 29,
   "id": "26f90d2b-42be-492e-8118-5b3b88c9baad",
   "metadata": {},
   "outputs": [
    {
     "data": {
      "text/plain": [
       "dynamics\n",
       "ff    88\n",
       "pp    87\n",
       "mf    86\n",
       "dtype: int64"
      ]
     },
     "execution_count": 29,
     "metadata": {},
     "output_type": "execute_result"
    }
   ],
   "source": [
    "piano.value_counts('dynamics')"
   ]
  },
  {
   "cell_type": "code",
   "execution_count": 30,
   "id": "91fa5023-92c9-4824-8257-e6b14340366f",
   "metadata": {
    "tags": []
   },
   "outputs": [],
   "source": [
    "piano_ff = piano.groupby('dynamics').get_group('ff')\n",
    "piano_pp = piano[piano['dynamics'] == 'pp']\n",
    "piano_mf = piano[piano['dynamics'] == 'mf']"
   ]
  },
  {
   "cell_type": "code",
   "execution_count": 32,
   "id": "efeebcf1-1e54-418c-80bd-3db3cb436f23",
   "metadata": {},
   "outputs": [
    {
     "name": "stdout",
     "output_type": "stream",
     "text": [
      "<class 'pandas.core.frame.DataFrame'>\n",
      "Int64Index: 87 entries, 587 to 673\n",
      "Data columns (total 11 columns):\n",
      " #   Column         Non-Null Count  Dtype \n",
      "---  ------         --------------  ----- \n",
      " 0   index          87 non-null     int64 \n",
      " 1   url            87 non-null     object\n",
      " 2   relative_path  87 non-null     object\n",
      " 3   year           87 non-null     object\n",
      " 4   group          87 non-null     object\n",
      " 5   instrument     87 non-null     object\n",
      " 6   subtype        0 non-null      object\n",
      " 7   dynamics       87 non-null     object\n",
      " 8   note           87 non-null     object\n",
      " 9   notes          87 non-null     object\n",
      " 10  tags           87 non-null     object\n",
      "dtypes: int64(1), object(10)\n",
      "memory usage: 8.2+ KB\n"
     ]
    }
   ],
   "source": []
  },
  {
   "cell_type": "code",
   "execution_count": 42,
   "id": "b9e0c13e-6579-4fe2-b9d8-034624c2b26f",
   "metadata": {},
   "outputs": [
    {
     "data": {
      "text/plain": [
       "760    pre2012/piano/piano/default/Piano.ff.A0.aiff\n",
       "Name: relative_path, dtype: object"
      ]
     },
     "execution_count": 42,
     "metadata": {},
     "output_type": "execute_result"
    }
   ],
   "source": [
    "piano_ff.iloc[[0],:]['relative_path']"
   ]
  },
  {
   "cell_type": "code",
   "execution_count": 8,
   "id": "e340d617-3fcf-4e02-83d7-85c6bba68ebd",
   "metadata": {},
   "outputs": [
    {
     "data": {
      "text/plain": [
       "index             int64\n",
       "url              object\n",
       "relative_path    object\n",
       "year             object\n",
       "group            object\n",
       "instrument       object\n",
       "subtype          object\n",
       "dynamics         object\n",
       "note             object\n",
       "notes            object\n",
       "tags             object\n",
       "dtype: object"
      ]
     },
     "execution_count": 8,
     "metadata": {},
     "output_type": "execute_result"
    }
   ],
   "source": [
    "piano.dtypes"
   ]
  },
  {
   "cell_type": "code",
   "execution_count": null,
   "id": "0751acfa-a408-4617-846a-eddbe2ed849d",
   "metadata": {},
   "outputs": [],
   "source": []
  }
 ],
 "metadata": {
  "kernelspec": {
   "display_name": "Python 3 (ipykernel)",
   "language": "python",
   "name": "python3"
  },
  "language_info": {
   "codemirror_mode": {
    "name": "ipython",
    "version": 3
   },
   "file_extension": ".py",
   "mimetype": "text/x-python",
   "name": "python",
   "nbconvert_exporter": "python",
   "pygments_lexer": "ipython3",
   "version": "3.9.16"
  }
 },
 "nbformat": 4,
 "nbformat_minor": 5
}
