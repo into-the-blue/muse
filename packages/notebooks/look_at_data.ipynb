{
 "cells": [
  {
   "cell_type": "code",
   "execution_count": 1,
   "id": "32c6372c-7013-4712-a45a-0bddd8c88ff7",
   "metadata": {
    "tags": []
   },
   "outputs": [],
   "source": [
    "from IPython.core.interactiveshell import InteractiveShell\n",
    "InteractiveShell.ast_node_interactivity = 'all'\n",
    "from pathlib import Path, PurePath\n",
    "import json\n",
    "import pandas as pd\n",
    "pd.set_option('display.max_colwidth', None)\n",
    "pd.set_option('display.max_columns', None)\n",
    "import re"
   ]
  },
  {
   "cell_type": "code",
   "execution_count": 2,
   "id": "df41e5d0-df10-4356-a619-c2ec63867efd",
   "metadata": {
    "tags": []
   },
   "outputs": [
    {
     "data": {
      "text/plain": [
       "PosixPath('../note-spider/data')"
      ]
     },
     "execution_count": 2,
     "metadata": {},
     "output_type": "execute_result"
    }
   ],
   "source": [
    "# path of note sound files\n",
    "pth1 = Path('.') / 'data'\n",
    "pth2 = Path('.') / '..' / 'note-spider' / 'data'\n",
    "data_pth = pth2 if pth2.exists() else pth1\n",
    "if not data_pth.exists():\n",
    "    raise('Cannot find data')\n",
    "data_pth"
   ]
  },
  {
   "cell_type": "code",
   "execution_count": 3,
   "id": "4268010a-02ad-43e0-8735-6e1b0aeb6a5e",
   "metadata": {
    "tags": []
   },
   "outputs": [
    {
     "data": {
      "text/plain": [
       "[{'url': 'https://theremin.music.uiowa.edu/sound files/MIS/Woodwinds/oboe/Oboe.pp.Bb3B3.aiff',\n",
       "  'path': '/Users/origami/Desktop/temp_projects/muse/packages/note-spider/data/pre2012/woodwinds/oboe/default'},\n",
       " {'url': 'https://theremin.music.uiowa.edu/sound files/MIS/Woodwinds/oboe/Oboe.pp.C4B4.aiff',\n",
       "  'path': '/Users/origami/Desktop/temp_projects/muse/packages/note-spider/data/pre2012/woodwinds/oboe/default'},\n",
       " {'url': 'https://theremin.music.uiowa.edu/sound files/MIS/Woodwinds/oboe/Oboe.pp.C5B5.aiff',\n",
       "  'path': '/Users/origami/Desktop/temp_projects/muse/packages/note-spider/data/pre2012/woodwinds/oboe/default'}]"
      ]
     },
     "execution_count": 3,
     "metadata": {},
     "output_type": "execute_result"
    }
   ],
   "source": [
    "file_pth_json = None\n",
    "with open(data_pth / 'urlsAndPath.json') as f:\n",
    "    text = f.read()\n",
    "    file_pth_json = json.loads(text)\n",
    "file_pth_json[:3]"
   ]
  },
  {
   "cell_type": "code",
   "execution_count": 4,
   "id": "8c487704-df28-4128-a9f2-d92f3766c4f3",
   "metadata": {
    "tags": []
   },
   "outputs": [
    {
     "data": {
      "text/html": [
       "<div>\n",
       "<style scoped>\n",
       "    .dataframe tbody tr th:only-of-type {\n",
       "        vertical-align: middle;\n",
       "    }\n",
       "\n",
       "    .dataframe tbody tr th {\n",
       "        vertical-align: top;\n",
       "    }\n",
       "\n",
       "    .dataframe thead th {\n",
       "        text-align: right;\n",
       "    }\n",
       "</style>\n",
       "<table border=\"1\" class=\"dataframe\">\n",
       "  <thead>\n",
       "    <tr style=\"text-align: right;\">\n",
       "      <th></th>\n",
       "      <th>url</th>\n",
       "      <th>path</th>\n",
       "      <th>local_path</th>\n",
       "    </tr>\n",
       "  </thead>\n",
       "  <tbody>\n",
       "    <tr>\n",
       "      <th>0</th>\n",
       "      <td>https://theremin.music.uiowa.edu/sound files/MIS/Woodwinds/oboe/Oboe.pp.Bb3B3.aiff</td>\n",
       "      <td>/Users/origami/Desktop/temp_projects/muse/packages/note-spider/data/pre2012/woodwinds/oboe/default</td>\n",
       "      <td>NaN</td>\n",
       "    </tr>\n",
       "    <tr>\n",
       "      <th>1</th>\n",
       "      <td>https://theremin.music.uiowa.edu/sound files/MIS/Woodwinds/oboe/Oboe.pp.C4B4.aiff</td>\n",
       "      <td>/Users/origami/Desktop/temp_projects/muse/packages/note-spider/data/pre2012/woodwinds/oboe/default</td>\n",
       "      <td>NaN</td>\n",
       "    </tr>\n",
       "    <tr>\n",
       "      <th>2</th>\n",
       "      <td>https://theremin.music.uiowa.edu/sound files/MIS/Woodwinds/oboe/Oboe.pp.C5B5.aiff</td>\n",
       "      <td>/Users/origami/Desktop/temp_projects/muse/packages/note-spider/data/pre2012/woodwinds/oboe/default</td>\n",
       "      <td>NaN</td>\n",
       "    </tr>\n",
       "    <tr>\n",
       "      <th>3</th>\n",
       "      <td>https://theremin.music.uiowa.edu/sound files/MIS/Woodwinds/oboe/Oboe.pp.C6Ab6.aiff</td>\n",
       "      <td>/Users/origami/Desktop/temp_projects/muse/packages/note-spider/data/pre2012/woodwinds/oboe/default</td>\n",
       "      <td>NaN</td>\n",
       "    </tr>\n",
       "    <tr>\n",
       "      <th>4</th>\n",
       "      <td>https://theremin.music.uiowa.edu/sound files/MIS/Woodwinds/oboe/Oboe.mf.Bb3B3.aiff</td>\n",
       "      <td>/Users/origami/Desktop/temp_projects/muse/packages/note-spider/data/pre2012/woodwinds/oboe/default</td>\n",
       "      <td>NaN</td>\n",
       "    </tr>\n",
       "  </tbody>\n",
       "</table>\n",
       "</div>"
      ],
      "text/plain": [
       "                                                                                  url  \\\n",
       "0  https://theremin.music.uiowa.edu/sound files/MIS/Woodwinds/oboe/Oboe.pp.Bb3B3.aiff   \n",
       "1   https://theremin.music.uiowa.edu/sound files/MIS/Woodwinds/oboe/Oboe.pp.C4B4.aiff   \n",
       "2   https://theremin.music.uiowa.edu/sound files/MIS/Woodwinds/oboe/Oboe.pp.C5B5.aiff   \n",
       "3  https://theremin.music.uiowa.edu/sound files/MIS/Woodwinds/oboe/Oboe.pp.C6Ab6.aiff   \n",
       "4  https://theremin.music.uiowa.edu/sound files/MIS/Woodwinds/oboe/Oboe.mf.Bb3B3.aiff   \n",
       "\n",
       "                                                                                                 path  \\\n",
       "0  /Users/origami/Desktop/temp_projects/muse/packages/note-spider/data/pre2012/woodwinds/oboe/default   \n",
       "1  /Users/origami/Desktop/temp_projects/muse/packages/note-spider/data/pre2012/woodwinds/oboe/default   \n",
       "2  /Users/origami/Desktop/temp_projects/muse/packages/note-spider/data/pre2012/woodwinds/oboe/default   \n",
       "3  /Users/origami/Desktop/temp_projects/muse/packages/note-spider/data/pre2012/woodwinds/oboe/default   \n",
       "4  /Users/origami/Desktop/temp_projects/muse/packages/note-spider/data/pre2012/woodwinds/oboe/default   \n",
       "\n",
       "  local_path  \n",
       "0        NaN  \n",
       "1        NaN  \n",
       "2        NaN  \n",
       "3        NaN  \n",
       "4        NaN  "
      ]
     },
     "execution_count": 4,
     "metadata": {},
     "output_type": "execute_result"
    }
   ],
   "source": [
    "file_pth_dict = { 'url': [o['url'] for o in file_pth_json], 'path': [o['path'] for o in file_pth_json] }\n",
    "df = pd.DataFrame(file_pth_dict, columns=['url','path', 'local_path'], index=None)\n",
    "df.head()"
   ]
  },
  {
   "cell_type": "code",
   "execution_count": 5,
   "id": "3662adaf-bca0-4019-8df9-ce92582f79e3",
   "metadata": {
    "tags": []
   },
   "outputs": [],
   "source": [
    "def extend_col_local_path(row):\n",
    "    url, path = row['url'], row['path']\n",
    "    file_name = url.split('/')[-1]\n",
    "    file_path = path + '/' + file_name\n",
    "    relative_path =  file_path.replace('/Users/origami/Desktop/temp_projects/muse/packages/note-spider/data','.')\n",
    "    return str(data_pth.joinpath(relative_path))\n",
    "\n",
    "def extend_col_relative_path(row):\n",
    "    return Path(row['local_path']).relative_to(data_pth)"
   ]
  },
  {
   "cell_type": "code",
   "execution_count": 6,
   "id": "c3fb2aa7-e640-4fbb-a831-421a3ebae829",
   "metadata": {
    "tags": []
   },
   "outputs": [],
   "source": [
    "df['local_path'] = df.apply(extend_col_local_path, axis=1)\n",
    "df['relative_path'] = df.apply(extend_col_relative_path, axis=1)"
   ]
  },
  {
   "cell_type": "code",
   "execution_count": 7,
   "id": "57837c27-9ad1-47ce-8ac4-a8afc25ba519",
   "metadata": {
    "tags": []
   },
   "outputs": [
    {
     "data": {
      "text/html": [
       "<div>\n",
       "<style scoped>\n",
       "    .dataframe tbody tr th:only-of-type {\n",
       "        vertical-align: middle;\n",
       "    }\n",
       "\n",
       "    .dataframe tbody tr th {\n",
       "        vertical-align: top;\n",
       "    }\n",
       "\n",
       "    .dataframe thead th {\n",
       "        text-align: right;\n",
       "    }\n",
       "</style>\n",
       "<table border=\"1\" class=\"dataframe\">\n",
       "  <thead>\n",
       "    <tr style=\"text-align: right;\">\n",
       "      <th></th>\n",
       "      <th>url</th>\n",
       "      <th>path</th>\n",
       "      <th>local_path</th>\n",
       "      <th>relative_path</th>\n",
       "    </tr>\n",
       "  </thead>\n",
       "  <tbody>\n",
       "    <tr>\n",
       "      <th>0</th>\n",
       "      <td>https://theremin.music.uiowa.edu/sound files/MIS/Woodwinds/oboe/Oboe.pp.Bb3B3.aiff</td>\n",
       "      <td>/Users/origami/Desktop/temp_projects/muse/packages/note-spider/data/pre2012/woodwinds/oboe/default</td>\n",
       "      <td>../note-spider/data/pre2012/woodwinds/oboe/default/Oboe.pp.Bb3B3.aiff</td>\n",
       "      <td>pre2012/woodwinds/oboe/default/Oboe.pp.Bb3B3.aiff</td>\n",
       "    </tr>\n",
       "    <tr>\n",
       "      <th>1</th>\n",
       "      <td>https://theremin.music.uiowa.edu/sound files/MIS/Woodwinds/oboe/Oboe.pp.C4B4.aiff</td>\n",
       "      <td>/Users/origami/Desktop/temp_projects/muse/packages/note-spider/data/pre2012/woodwinds/oboe/default</td>\n",
       "      <td>../note-spider/data/pre2012/woodwinds/oboe/default/Oboe.pp.C4B4.aiff</td>\n",
       "      <td>pre2012/woodwinds/oboe/default/Oboe.pp.C4B4.aiff</td>\n",
       "    </tr>\n",
       "    <tr>\n",
       "      <th>2</th>\n",
       "      <td>https://theremin.music.uiowa.edu/sound files/MIS/Woodwinds/oboe/Oboe.pp.C5B5.aiff</td>\n",
       "      <td>/Users/origami/Desktop/temp_projects/muse/packages/note-spider/data/pre2012/woodwinds/oboe/default</td>\n",
       "      <td>../note-spider/data/pre2012/woodwinds/oboe/default/Oboe.pp.C5B5.aiff</td>\n",
       "      <td>pre2012/woodwinds/oboe/default/Oboe.pp.C5B5.aiff</td>\n",
       "    </tr>\n",
       "    <tr>\n",
       "      <th>3</th>\n",
       "      <td>https://theremin.music.uiowa.edu/sound files/MIS/Woodwinds/oboe/Oboe.pp.C6Ab6.aiff</td>\n",
       "      <td>/Users/origami/Desktop/temp_projects/muse/packages/note-spider/data/pre2012/woodwinds/oboe/default</td>\n",
       "      <td>../note-spider/data/pre2012/woodwinds/oboe/default/Oboe.pp.C6Ab6.aiff</td>\n",
       "      <td>pre2012/woodwinds/oboe/default/Oboe.pp.C6Ab6.aiff</td>\n",
       "    </tr>\n",
       "    <tr>\n",
       "      <th>4</th>\n",
       "      <td>https://theremin.music.uiowa.edu/sound files/MIS/Woodwinds/oboe/Oboe.mf.Bb3B3.aiff</td>\n",
       "      <td>/Users/origami/Desktop/temp_projects/muse/packages/note-spider/data/pre2012/woodwinds/oboe/default</td>\n",
       "      <td>../note-spider/data/pre2012/woodwinds/oboe/default/Oboe.mf.Bb3B3.aiff</td>\n",
       "      <td>pre2012/woodwinds/oboe/default/Oboe.mf.Bb3B3.aiff</td>\n",
       "    </tr>\n",
       "  </tbody>\n",
       "</table>\n",
       "</div>"
      ],
      "text/plain": [
       "                                                                                  url  \\\n",
       "0  https://theremin.music.uiowa.edu/sound files/MIS/Woodwinds/oboe/Oboe.pp.Bb3B3.aiff   \n",
       "1   https://theremin.music.uiowa.edu/sound files/MIS/Woodwinds/oboe/Oboe.pp.C4B4.aiff   \n",
       "2   https://theremin.music.uiowa.edu/sound files/MIS/Woodwinds/oboe/Oboe.pp.C5B5.aiff   \n",
       "3  https://theremin.music.uiowa.edu/sound files/MIS/Woodwinds/oboe/Oboe.pp.C6Ab6.aiff   \n",
       "4  https://theremin.music.uiowa.edu/sound files/MIS/Woodwinds/oboe/Oboe.mf.Bb3B3.aiff   \n",
       "\n",
       "                                                                                                 path  \\\n",
       "0  /Users/origami/Desktop/temp_projects/muse/packages/note-spider/data/pre2012/woodwinds/oboe/default   \n",
       "1  /Users/origami/Desktop/temp_projects/muse/packages/note-spider/data/pre2012/woodwinds/oboe/default   \n",
       "2  /Users/origami/Desktop/temp_projects/muse/packages/note-spider/data/pre2012/woodwinds/oboe/default   \n",
       "3  /Users/origami/Desktop/temp_projects/muse/packages/note-spider/data/pre2012/woodwinds/oboe/default   \n",
       "4  /Users/origami/Desktop/temp_projects/muse/packages/note-spider/data/pre2012/woodwinds/oboe/default   \n",
       "\n",
       "                                                              local_path  \\\n",
       "0  ../note-spider/data/pre2012/woodwinds/oboe/default/Oboe.pp.Bb3B3.aiff   \n",
       "1   ../note-spider/data/pre2012/woodwinds/oboe/default/Oboe.pp.C4B4.aiff   \n",
       "2   ../note-spider/data/pre2012/woodwinds/oboe/default/Oboe.pp.C5B5.aiff   \n",
       "3  ../note-spider/data/pre2012/woodwinds/oboe/default/Oboe.pp.C6Ab6.aiff   \n",
       "4  ../note-spider/data/pre2012/woodwinds/oboe/default/Oboe.mf.Bb3B3.aiff   \n",
       "\n",
       "                                       relative_path  \n",
       "0  pre2012/woodwinds/oboe/default/Oboe.pp.Bb3B3.aiff  \n",
       "1   pre2012/woodwinds/oboe/default/Oboe.pp.C4B4.aiff  \n",
       "2   pre2012/woodwinds/oboe/default/Oboe.pp.C5B5.aiff  \n",
       "3  pre2012/woodwinds/oboe/default/Oboe.pp.C6Ab6.aiff  \n",
       "4  pre2012/woodwinds/oboe/default/Oboe.mf.Bb3B3.aiff  "
      ]
     },
     "execution_count": 7,
     "metadata": {},
     "output_type": "execute_result"
    }
   ],
   "source": [
    "df.head()"
   ]
  },
  {
   "cell_type": "code",
   "execution_count": 8,
   "id": "d64a2e79-3268-4d1b-8708-e9bcb48ab5dd",
   "metadata": {
    "tags": []
   },
   "outputs": [
    {
     "name": "stdout",
     "output_type": "stream",
     "text": [
      "url                                                                   https://theremin.music.uiowa.edu/oops.html\n",
      "path             /Users/origami/Desktop/temp_projects/muse/packages/note-spider/data/pre2012/piano/piano/default\n",
      "local_path                                             ../note-spider/data/pre2012/piano/piano/default/oops.html\n",
      "relative_path                                                              pre2012/piano/piano/default/oops.html\n",
      "Name: 753, dtype: object\n"
     ]
    },
    {
     "data": {
      "text/plain": [
       "0       True\n",
       "1       True\n",
       "2       True\n",
       "3       True\n",
       "4       True\n",
       "        ... \n",
       "3682    True\n",
       "3683    True\n",
       "3684    True\n",
       "3685    True\n",
       "3686    True\n",
       "Length: 3687, dtype: bool"
      ]
     },
     "execution_count": 8,
     "metadata": {},
     "output_type": "execute_result"
    }
   ],
   "source": [
    "def check_local_path_exists(row):\n",
    "    local_path = Path(row['local_path'])\n",
    "    if not local_path.exists():\n",
    "         print(row)\n",
    "    return local_path.exists()\n",
    "df.apply(check_local_path_exists, axis=1)"
   ]
  },
  {
   "cell_type": "markdown",
   "id": "6c85eb89-19af-4883-b57e-21480735c0dc",
   "metadata": {},
   "source": [
    "### Extract path info\n",
    "group: woodwinds\n",
    "name: oboe\n",
    "type: \n",
    "dynamics: pp, mf , ff"
   ]
  },
  {
   "cell_type": "markdown",
   "id": "72d91666-9da4-4d12-8514-5287f3511663",
   "metadata": {
    "tags": []
   },
   "source": [
    "### 1\n",
    "splash.bow.aif\n",
    "20chinese.bow.aif\n",
    "\n",
    "> No explicit meaning, skip processing\n",
    "\n",
    "### 2\n",
    "Oboe.pp.Bb3B3.aiff\n",
    "\n",
    "> dynamics.note\n",
    "\n",
    "20windgong.bow.stereo.aif\n",
    "\n",
    "### 3\n",
    "\n",
    "*Case 1*: Flute.vib.pp.B3B4.aiff\n",
    "\n",
    "*Case 2*: Vibraphone.bow.Db6.stereo.aif\n",
    "\n",
    "\n",
    "### 4\n",
    "Viola.arco.sulC.pp.C3B3.aiff\n",
    "\n",
    "Vibraphone.shortsustain.ff.F6.stereo.aif\n",
    "\n",
    "\n",
    "### 5\n",
    "\n",
    "Bass.arco.ff.sulE.E1.stereo.aif\n",
    "\n",
    "Xylophone.rosewood.roll.ff.Ab7.stereo.aif"
   ]
  },
  {
   "cell_type": "code",
   "execution_count": 9,
   "id": "5060d886-4723-4e3c-a8cc-35966406a3d9",
   "metadata": {
    "tags": []
   },
   "outputs": [],
   "source": [
    "def get_path_info(row):\n",
    "    relative_path = row['relative_path']\n",
    "    splited = str(relative_path).split('/')\n",
    "    year, group, name, subtype = splited[:-1]\n",
    "    return splited[:-1]\n",
    "\n",
    "def extend_col_year(row):\n",
    "    return get_path_info(row)[0]\n",
    "\n",
    "def extend_col_group(row):\n",
    "    return get_path_info(row)[1]\n",
    "\n",
    "def extend_col_name(row):\n",
    "    return get_path_info(row)[2]\n",
    "\n",
    "def extend_col_subtype(row):\n",
    "    subtype = get_path_info(row)[3]\n",
    "    return subtype if subtype != 'default' else None"
   ]
  },
  {
   "cell_type": "code",
   "execution_count": 10,
   "id": "d1af8e43-297f-46ea-a983-c7a531cf5334",
   "metadata": {
    "tags": []
   },
   "outputs": [],
   "source": [
    "df['year'] = df.apply(extend_col_year, axis=1)\n",
    "df['group'] = df.apply(extend_col_group, axis=1)\n",
    "df['instrument'] = df.apply(extend_col_name, axis=1)\n",
    "df['subtype'] = df.apply(extend_col_subtype, axis=1)"
   ]
  },
  {
   "cell_type": "markdown",
   "id": "878cfe1d-0949-4650-b06b-3b25b43f6b3a",
   "metadata": {
    "tags": []
   },
   "source": [
    "#### Extract dynamics, notes"
   ]
  },
  {
   "cell_type": "code",
   "execution_count": 11,
   "id": "d96cb7ea-5216-43ed-87a7-8821813decef",
   "metadata": {
    "tags": []
   },
   "outputs": [],
   "source": [
    "def find_dynamics(strs):\n",
    "    result = []\n",
    "    for s in strs:\n",
    "        res = re.findall(r\"^[pmf]{1,3}$\",s)\n",
    "        result.extend(res)\n",
    "    return result\n",
    "\n",
    "def find_note(strs):\n",
    "    result = []\n",
    "    for s in strs:\n",
    "        res = re.findall(r\"^[A-G]{1,}[A-Gb0-9]{1,}$\",s)\n",
    "        result.extend(res)\n",
    "    return result\n",
    "def extend_col_dynamics(row):\n",
    "    file_path = Path(row['local_path'])\n",
    "    file_name = file_path.name\n",
    "    splited = file_name.split('.')\n",
    "    dynamics = find_dynamics(splited)\n",
    "    if len(dynamics) > 1:\n",
    "        print('Wrong res', dynamics)\n",
    "    if len(dynamics) == 0:\n",
    "        return None\n",
    "    return dynamics[0]\n",
    "\n",
    "def extend_col_note(row):\n",
    "    file_path = Path(row['local_path'])\n",
    "    file_name = file_path.name\n",
    "    splited = file_name.split('.')\n",
    "    note = find_note(splited)\n",
    "    if len(note) > 1:\n",
    "        print('Wrong res', note)\n",
    "    if len(note) == 0:\n",
    "        return None\n",
    "    return note[0]\n",
    "\n",
    "def extend_col_notes(row):\n",
    "    note = row['note']\n",
    "    if note is None:\n",
    "        return note\n",
    "    return re.findall(r\"[A-G]b?[0-9]\", note)"
   ]
  },
  {
   "cell_type": "code",
   "execution_count": 12,
   "id": "6dd74abd-c17d-4429-90e2-8e50665b328f",
   "metadata": {
    "tags": []
   },
   "outputs": [],
   "source": [
    "df['dynamics'] = df.apply(extend_col_dynamics, axis=1)\n",
    "df['note'] = df.apply(extend_col_note, axis=1)\n",
    "df['notes'] = df.apply(extend_col_notes, axis=1)"
   ]
  },
  {
   "cell_type": "code",
   "execution_count": 13,
   "id": "1f02aecf-0e8a-495b-a835-4d928f8a7738",
   "metadata": {
    "tags": []
   },
   "outputs": [
    {
     "data": {
      "text/html": [
       "<div>\n",
       "<style scoped>\n",
       "    .dataframe tbody tr th:only-of-type {\n",
       "        vertical-align: middle;\n",
       "    }\n",
       "\n",
       "    .dataframe tbody tr th {\n",
       "        vertical-align: top;\n",
       "    }\n",
       "\n",
       "    .dataframe thead th {\n",
       "        text-align: right;\n",
       "    }\n",
       "</style>\n",
       "<table border=\"1\" class=\"dataframe\">\n",
       "  <thead>\n",
       "    <tr style=\"text-align: right;\">\n",
       "      <th></th>\n",
       "      <th>dynamics</th>\n",
       "      <th>note</th>\n",
       "      <th>notes</th>\n",
       "      <th>group</th>\n",
       "      <th>instrument</th>\n",
       "      <th>subtype</th>\n",
       "    </tr>\n",
       "  </thead>\n",
       "  <tbody>\n",
       "    <tr>\n",
       "      <th>0</th>\n",
       "      <td>pp</td>\n",
       "      <td>Bb3B3</td>\n",
       "      <td>[Bb3, B3]</td>\n",
       "      <td>woodwinds</td>\n",
       "      <td>oboe</td>\n",
       "      <td>None</td>\n",
       "    </tr>\n",
       "    <tr>\n",
       "      <th>1</th>\n",
       "      <td>pp</td>\n",
       "      <td>C4B4</td>\n",
       "      <td>[C4, B4]</td>\n",
       "      <td>woodwinds</td>\n",
       "      <td>oboe</td>\n",
       "      <td>None</td>\n",
       "    </tr>\n",
       "    <tr>\n",
       "      <th>2</th>\n",
       "      <td>pp</td>\n",
       "      <td>C5B5</td>\n",
       "      <td>[C5, B5]</td>\n",
       "      <td>woodwinds</td>\n",
       "      <td>oboe</td>\n",
       "      <td>None</td>\n",
       "    </tr>\n",
       "    <tr>\n",
       "      <th>3</th>\n",
       "      <td>pp</td>\n",
       "      <td>C6Ab6</td>\n",
       "      <td>[C6, Ab6]</td>\n",
       "      <td>woodwinds</td>\n",
       "      <td>oboe</td>\n",
       "      <td>None</td>\n",
       "    </tr>\n",
       "    <tr>\n",
       "      <th>4</th>\n",
       "      <td>mf</td>\n",
       "      <td>Bb3B3</td>\n",
       "      <td>[Bb3, B3]</td>\n",
       "      <td>woodwinds</td>\n",
       "      <td>oboe</td>\n",
       "      <td>None</td>\n",
       "    </tr>\n",
       "  </tbody>\n",
       "</table>\n",
       "</div>"
      ],
      "text/plain": [
       "  dynamics   note      notes      group instrument subtype\n",
       "0       pp  Bb3B3  [Bb3, B3]  woodwinds       oboe    None\n",
       "1       pp   C4B4   [C4, B4]  woodwinds       oboe    None\n",
       "2       pp   C5B5   [C5, B5]  woodwinds       oboe    None\n",
       "3       pp  C6Ab6  [C6, Ab6]  woodwinds       oboe    None\n",
       "4       mf  Bb3B3  [Bb3, B3]  woodwinds       oboe    None"
      ]
     },
     "execution_count": 13,
     "metadata": {},
     "output_type": "execute_result"
    }
   ],
   "source": [
    "df[['dynamics', 'note','notes', 'group', 'instrument','subtype']].head()"
   ]
  },
  {
   "cell_type": "markdown",
   "id": "f5a2ccd6-a475-459a-8f4b-e0521a312554",
   "metadata": {},
   "source": [
    "### Tags"
   ]
  },
  {
   "cell_type": "code",
   "execution_count": 14,
   "id": "5e9d63d8-eb11-4f64-ad3c-bf602ff7be7c",
   "metadata": {
    "tags": []
   },
   "outputs": [],
   "source": [
    "def extend_col_tags(row):\n",
    "    group,name, subtype = row['group'],row['instrument'],row['subtype']\n",
    "    note, notes = row['note'], row['notes']\n",
    "    alltags = [group, name]\n",
    "    if subtype is not None:\n",
    "        alltags.append(subtype)\n",
    "    if note is not None:\n",
    "        alltags.append(note)\n",
    "        alltags.extend(notes)\n",
    "    return [*set(alltags)]\n",
    "    "
   ]
  },
  {
   "cell_type": "code",
   "execution_count": 15,
   "id": "b566db12-1f24-4072-9725-b7277e32e704",
   "metadata": {
    "tags": []
   },
   "outputs": [],
   "source": [
    "df['tags'] = df.apply(extend_col_tags, axis=1)"
   ]
  },
  {
   "cell_type": "code",
   "execution_count": 16,
   "id": "e5fc4d81-9c36-41d2-b459-ba2b4080139d",
   "metadata": {
    "tags": []
   },
   "outputs": [
    {
     "data": {
      "text/html": [
       "<div>\n",
       "<style scoped>\n",
       "    .dataframe tbody tr th:only-of-type {\n",
       "        vertical-align: middle;\n",
       "    }\n",
       "\n",
       "    .dataframe tbody tr th {\n",
       "        vertical-align: top;\n",
       "    }\n",
       "\n",
       "    .dataframe thead th {\n",
       "        text-align: right;\n",
       "    }\n",
       "</style>\n",
       "<table border=\"1\" class=\"dataframe\">\n",
       "  <thead>\n",
       "    <tr style=\"text-align: right;\">\n",
       "      <th></th>\n",
       "      <th>url</th>\n",
       "      <th>path</th>\n",
       "      <th>local_path</th>\n",
       "      <th>relative_path</th>\n",
       "      <th>year</th>\n",
       "      <th>group</th>\n",
       "      <th>instrument</th>\n",
       "      <th>subtype</th>\n",
       "      <th>dynamics</th>\n",
       "      <th>note</th>\n",
       "      <th>notes</th>\n",
       "      <th>tags</th>\n",
       "    </tr>\n",
       "  </thead>\n",
       "  <tbody>\n",
       "    <tr>\n",
       "      <th>0</th>\n",
       "      <td>https://theremin.music.uiowa.edu/sound files/MIS/Woodwinds/oboe/Oboe.pp.Bb3B3.aiff</td>\n",
       "      <td>/Users/origami/Desktop/temp_projects/muse/packages/note-spider/data/pre2012/woodwinds/oboe/default</td>\n",
       "      <td>../note-spider/data/pre2012/woodwinds/oboe/default/Oboe.pp.Bb3B3.aiff</td>\n",
       "      <td>pre2012/woodwinds/oboe/default/Oboe.pp.Bb3B3.aiff</td>\n",
       "      <td>pre2012</td>\n",
       "      <td>woodwinds</td>\n",
       "      <td>oboe</td>\n",
       "      <td>None</td>\n",
       "      <td>pp</td>\n",
       "      <td>Bb3B3</td>\n",
       "      <td>[Bb3, B3]</td>\n",
       "      <td>[Bb3, Bb3B3, B3, oboe, woodwinds]</td>\n",
       "    </tr>\n",
       "    <tr>\n",
       "      <th>1</th>\n",
       "      <td>https://theremin.music.uiowa.edu/sound files/MIS/Woodwinds/oboe/Oboe.pp.C4B4.aiff</td>\n",
       "      <td>/Users/origami/Desktop/temp_projects/muse/packages/note-spider/data/pre2012/woodwinds/oboe/default</td>\n",
       "      <td>../note-spider/data/pre2012/woodwinds/oboe/default/Oboe.pp.C4B4.aiff</td>\n",
       "      <td>pre2012/woodwinds/oboe/default/Oboe.pp.C4B4.aiff</td>\n",
       "      <td>pre2012</td>\n",
       "      <td>woodwinds</td>\n",
       "      <td>oboe</td>\n",
       "      <td>None</td>\n",
       "      <td>pp</td>\n",
       "      <td>C4B4</td>\n",
       "      <td>[C4, B4]</td>\n",
       "      <td>[C4B4, C4, B4, oboe, woodwinds]</td>\n",
       "    </tr>\n",
       "    <tr>\n",
       "      <th>2</th>\n",
       "      <td>https://theremin.music.uiowa.edu/sound files/MIS/Woodwinds/oboe/Oboe.pp.C5B5.aiff</td>\n",
       "      <td>/Users/origami/Desktop/temp_projects/muse/packages/note-spider/data/pre2012/woodwinds/oboe/default</td>\n",
       "      <td>../note-spider/data/pre2012/woodwinds/oboe/default/Oboe.pp.C5B5.aiff</td>\n",
       "      <td>pre2012/woodwinds/oboe/default/Oboe.pp.C5B5.aiff</td>\n",
       "      <td>pre2012</td>\n",
       "      <td>woodwinds</td>\n",
       "      <td>oboe</td>\n",
       "      <td>None</td>\n",
       "      <td>pp</td>\n",
       "      <td>C5B5</td>\n",
       "      <td>[C5, B5]</td>\n",
       "      <td>[C5B5, B5, oboe, woodwinds, C5]</td>\n",
       "    </tr>\n",
       "    <tr>\n",
       "      <th>3</th>\n",
       "      <td>https://theremin.music.uiowa.edu/sound files/MIS/Woodwinds/oboe/Oboe.pp.C6Ab6.aiff</td>\n",
       "      <td>/Users/origami/Desktop/temp_projects/muse/packages/note-spider/data/pre2012/woodwinds/oboe/default</td>\n",
       "      <td>../note-spider/data/pre2012/woodwinds/oboe/default/Oboe.pp.C6Ab6.aiff</td>\n",
       "      <td>pre2012/woodwinds/oboe/default/Oboe.pp.C6Ab6.aiff</td>\n",
       "      <td>pre2012</td>\n",
       "      <td>woodwinds</td>\n",
       "      <td>oboe</td>\n",
       "      <td>None</td>\n",
       "      <td>pp</td>\n",
       "      <td>C6Ab6</td>\n",
       "      <td>[C6, Ab6]</td>\n",
       "      <td>[Ab6, C6Ab6, C6, oboe, woodwinds]</td>\n",
       "    </tr>\n",
       "    <tr>\n",
       "      <th>4</th>\n",
       "      <td>https://theremin.music.uiowa.edu/sound files/MIS/Woodwinds/oboe/Oboe.mf.Bb3B3.aiff</td>\n",
       "      <td>/Users/origami/Desktop/temp_projects/muse/packages/note-spider/data/pre2012/woodwinds/oboe/default</td>\n",
       "      <td>../note-spider/data/pre2012/woodwinds/oboe/default/Oboe.mf.Bb3B3.aiff</td>\n",
       "      <td>pre2012/woodwinds/oboe/default/Oboe.mf.Bb3B3.aiff</td>\n",
       "      <td>pre2012</td>\n",
       "      <td>woodwinds</td>\n",
       "      <td>oboe</td>\n",
       "      <td>None</td>\n",
       "      <td>mf</td>\n",
       "      <td>Bb3B3</td>\n",
       "      <td>[Bb3, B3]</td>\n",
       "      <td>[Bb3, Bb3B3, B3, oboe, woodwinds]</td>\n",
       "    </tr>\n",
       "  </tbody>\n",
       "</table>\n",
       "</div>"
      ],
      "text/plain": [
       "                                                                                  url  \\\n",
       "0  https://theremin.music.uiowa.edu/sound files/MIS/Woodwinds/oboe/Oboe.pp.Bb3B3.aiff   \n",
       "1   https://theremin.music.uiowa.edu/sound files/MIS/Woodwinds/oboe/Oboe.pp.C4B4.aiff   \n",
       "2   https://theremin.music.uiowa.edu/sound files/MIS/Woodwinds/oboe/Oboe.pp.C5B5.aiff   \n",
       "3  https://theremin.music.uiowa.edu/sound files/MIS/Woodwinds/oboe/Oboe.pp.C6Ab6.aiff   \n",
       "4  https://theremin.music.uiowa.edu/sound files/MIS/Woodwinds/oboe/Oboe.mf.Bb3B3.aiff   \n",
       "\n",
       "                                                                                                 path  \\\n",
       "0  /Users/origami/Desktop/temp_projects/muse/packages/note-spider/data/pre2012/woodwinds/oboe/default   \n",
       "1  /Users/origami/Desktop/temp_projects/muse/packages/note-spider/data/pre2012/woodwinds/oboe/default   \n",
       "2  /Users/origami/Desktop/temp_projects/muse/packages/note-spider/data/pre2012/woodwinds/oboe/default   \n",
       "3  /Users/origami/Desktop/temp_projects/muse/packages/note-spider/data/pre2012/woodwinds/oboe/default   \n",
       "4  /Users/origami/Desktop/temp_projects/muse/packages/note-spider/data/pre2012/woodwinds/oboe/default   \n",
       "\n",
       "                                                              local_path  \\\n",
       "0  ../note-spider/data/pre2012/woodwinds/oboe/default/Oboe.pp.Bb3B3.aiff   \n",
       "1   ../note-spider/data/pre2012/woodwinds/oboe/default/Oboe.pp.C4B4.aiff   \n",
       "2   ../note-spider/data/pre2012/woodwinds/oboe/default/Oboe.pp.C5B5.aiff   \n",
       "3  ../note-spider/data/pre2012/woodwinds/oboe/default/Oboe.pp.C6Ab6.aiff   \n",
       "4  ../note-spider/data/pre2012/woodwinds/oboe/default/Oboe.mf.Bb3B3.aiff   \n",
       "\n",
       "                                       relative_path     year      group  \\\n",
       "0  pre2012/woodwinds/oboe/default/Oboe.pp.Bb3B3.aiff  pre2012  woodwinds   \n",
       "1   pre2012/woodwinds/oboe/default/Oboe.pp.C4B4.aiff  pre2012  woodwinds   \n",
       "2   pre2012/woodwinds/oboe/default/Oboe.pp.C5B5.aiff  pre2012  woodwinds   \n",
       "3  pre2012/woodwinds/oboe/default/Oboe.pp.C6Ab6.aiff  pre2012  woodwinds   \n",
       "4  pre2012/woodwinds/oboe/default/Oboe.mf.Bb3B3.aiff  pre2012  woodwinds   \n",
       "\n",
       "  instrument subtype dynamics   note      notes  \\\n",
       "0       oboe    None       pp  Bb3B3  [Bb3, B3]   \n",
       "1       oboe    None       pp   C4B4   [C4, B4]   \n",
       "2       oboe    None       pp   C5B5   [C5, B5]   \n",
       "3       oboe    None       pp  C6Ab6  [C6, Ab6]   \n",
       "4       oboe    None       mf  Bb3B3  [Bb3, B3]   \n",
       "\n",
       "                                tags  \n",
       "0  [Bb3, Bb3B3, B3, oboe, woodwinds]  \n",
       "1    [C4B4, C4, B4, oboe, woodwinds]  \n",
       "2    [C5B5, B5, oboe, woodwinds, C5]  \n",
       "3  [Ab6, C6Ab6, C6, oboe, woodwinds]  \n",
       "4  [Bb3, Bb3B3, B3, oboe, woodwinds]  "
      ]
     },
     "execution_count": 16,
     "metadata": {},
     "output_type": "execute_result"
    }
   ],
   "source": [
    "df.head()"
   ]
  },
  {
   "cell_type": "code",
   "execution_count": 17,
   "id": "8fef741f-9ca9-49d0-ac97-6f81079204db",
   "metadata": {
    "tags": []
   },
   "outputs": [],
   "source": [
    "df2 = df.drop(['path','local_path'],axis=1)"
   ]
  },
  {
   "cell_type": "code",
   "execution_count": 18,
   "id": "06b1ef7c-fdbb-44ac-bad1-3ace13e2c35b",
   "metadata": {
    "tags": []
   },
   "outputs": [
    {
     "data": {
      "text/html": [
       "<div>\n",
       "<style scoped>\n",
       "    .dataframe tbody tr th:only-of-type {\n",
       "        vertical-align: middle;\n",
       "    }\n",
       "\n",
       "    .dataframe tbody tr th {\n",
       "        vertical-align: top;\n",
       "    }\n",
       "\n",
       "    .dataframe thead th {\n",
       "        text-align: right;\n",
       "    }\n",
       "</style>\n",
       "<table border=\"1\" class=\"dataframe\">\n",
       "  <thead>\n",
       "    <tr style=\"text-align: right;\">\n",
       "      <th></th>\n",
       "      <th>url</th>\n",
       "      <th>relative_path</th>\n",
       "      <th>year</th>\n",
       "      <th>group</th>\n",
       "      <th>instrument</th>\n",
       "      <th>subtype</th>\n",
       "      <th>dynamics</th>\n",
       "      <th>note</th>\n",
       "      <th>notes</th>\n",
       "      <th>tags</th>\n",
       "    </tr>\n",
       "  </thead>\n",
       "  <tbody>\n",
       "    <tr>\n",
       "      <th>0</th>\n",
       "      <td>https://theremin.music.uiowa.edu/sound files/MIS/Woodwinds/oboe/Oboe.pp.Bb3B3.aiff</td>\n",
       "      <td>pre2012/woodwinds/oboe/default/Oboe.pp.Bb3B3.aiff</td>\n",
       "      <td>pre2012</td>\n",
       "      <td>woodwinds</td>\n",
       "      <td>oboe</td>\n",
       "      <td>None</td>\n",
       "      <td>pp</td>\n",
       "      <td>Bb3B3</td>\n",
       "      <td>[Bb3, B3]</td>\n",
       "      <td>[Bb3, Bb3B3, B3, oboe, woodwinds]</td>\n",
       "    </tr>\n",
       "    <tr>\n",
       "      <th>1</th>\n",
       "      <td>https://theremin.music.uiowa.edu/sound files/MIS/Woodwinds/oboe/Oboe.pp.C4B4.aiff</td>\n",
       "      <td>pre2012/woodwinds/oboe/default/Oboe.pp.C4B4.aiff</td>\n",
       "      <td>pre2012</td>\n",
       "      <td>woodwinds</td>\n",
       "      <td>oboe</td>\n",
       "      <td>None</td>\n",
       "      <td>pp</td>\n",
       "      <td>C4B4</td>\n",
       "      <td>[C4, B4]</td>\n",
       "      <td>[C4B4, C4, B4, oboe, woodwinds]</td>\n",
       "    </tr>\n",
       "    <tr>\n",
       "      <th>2</th>\n",
       "      <td>https://theremin.music.uiowa.edu/sound files/MIS/Woodwinds/oboe/Oboe.pp.C5B5.aiff</td>\n",
       "      <td>pre2012/woodwinds/oboe/default/Oboe.pp.C5B5.aiff</td>\n",
       "      <td>pre2012</td>\n",
       "      <td>woodwinds</td>\n",
       "      <td>oboe</td>\n",
       "      <td>None</td>\n",
       "      <td>pp</td>\n",
       "      <td>C5B5</td>\n",
       "      <td>[C5, B5]</td>\n",
       "      <td>[C5B5, B5, oboe, woodwinds, C5]</td>\n",
       "    </tr>\n",
       "    <tr>\n",
       "      <th>3</th>\n",
       "      <td>https://theremin.music.uiowa.edu/sound files/MIS/Woodwinds/oboe/Oboe.pp.C6Ab6.aiff</td>\n",
       "      <td>pre2012/woodwinds/oboe/default/Oboe.pp.C6Ab6.aiff</td>\n",
       "      <td>pre2012</td>\n",
       "      <td>woodwinds</td>\n",
       "      <td>oboe</td>\n",
       "      <td>None</td>\n",
       "      <td>pp</td>\n",
       "      <td>C6Ab6</td>\n",
       "      <td>[C6, Ab6]</td>\n",
       "      <td>[Ab6, C6Ab6, C6, oboe, woodwinds]</td>\n",
       "    </tr>\n",
       "    <tr>\n",
       "      <th>4</th>\n",
       "      <td>https://theremin.music.uiowa.edu/sound files/MIS/Woodwinds/oboe/Oboe.mf.Bb3B3.aiff</td>\n",
       "      <td>pre2012/woodwinds/oboe/default/Oboe.mf.Bb3B3.aiff</td>\n",
       "      <td>pre2012</td>\n",
       "      <td>woodwinds</td>\n",
       "      <td>oboe</td>\n",
       "      <td>None</td>\n",
       "      <td>mf</td>\n",
       "      <td>Bb3B3</td>\n",
       "      <td>[Bb3, B3]</td>\n",
       "      <td>[Bb3, Bb3B3, B3, oboe, woodwinds]</td>\n",
       "    </tr>\n",
       "  </tbody>\n",
       "</table>\n",
       "</div>"
      ],
      "text/plain": [
       "                                                                                  url  \\\n",
       "0  https://theremin.music.uiowa.edu/sound files/MIS/Woodwinds/oboe/Oboe.pp.Bb3B3.aiff   \n",
       "1   https://theremin.music.uiowa.edu/sound files/MIS/Woodwinds/oboe/Oboe.pp.C4B4.aiff   \n",
       "2   https://theremin.music.uiowa.edu/sound files/MIS/Woodwinds/oboe/Oboe.pp.C5B5.aiff   \n",
       "3  https://theremin.music.uiowa.edu/sound files/MIS/Woodwinds/oboe/Oboe.pp.C6Ab6.aiff   \n",
       "4  https://theremin.music.uiowa.edu/sound files/MIS/Woodwinds/oboe/Oboe.mf.Bb3B3.aiff   \n",
       "\n",
       "                                       relative_path     year      group  \\\n",
       "0  pre2012/woodwinds/oboe/default/Oboe.pp.Bb3B3.aiff  pre2012  woodwinds   \n",
       "1   pre2012/woodwinds/oboe/default/Oboe.pp.C4B4.aiff  pre2012  woodwinds   \n",
       "2   pre2012/woodwinds/oboe/default/Oboe.pp.C5B5.aiff  pre2012  woodwinds   \n",
       "3  pre2012/woodwinds/oboe/default/Oboe.pp.C6Ab6.aiff  pre2012  woodwinds   \n",
       "4  pre2012/woodwinds/oboe/default/Oboe.mf.Bb3B3.aiff  pre2012  woodwinds   \n",
       "\n",
       "  instrument subtype dynamics   note      notes  \\\n",
       "0       oboe    None       pp  Bb3B3  [Bb3, B3]   \n",
       "1       oboe    None       pp   C4B4   [C4, B4]   \n",
       "2       oboe    None       pp   C5B5   [C5, B5]   \n",
       "3       oboe    None       pp  C6Ab6  [C6, Ab6]   \n",
       "4       oboe    None       mf  Bb3B3  [Bb3, B3]   \n",
       "\n",
       "                                tags  \n",
       "0  [Bb3, Bb3B3, B3, oboe, woodwinds]  \n",
       "1    [C4B4, C4, B4, oboe, woodwinds]  \n",
       "2    [C5B5, B5, oboe, woodwinds, C5]  \n",
       "3  [Ab6, C6Ab6, C6, oboe, woodwinds]  \n",
       "4  [Bb3, Bb3B3, B3, oboe, woodwinds]  "
      ]
     },
     "execution_count": 18,
     "metadata": {},
     "output_type": "execute_result"
    }
   ],
   "source": [
    "df2.head()"
   ]
  },
  {
   "cell_type": "code",
   "execution_count": 19,
   "id": "5a799eca-98af-4de0-b40c-d2a08e3ae3a5",
   "metadata": {
    "tags": []
   },
   "outputs": [
    {
     "data": {
      "text/plain": [
       "url              string\n",
       "relative_path    string\n",
       "year             string\n",
       "group            string\n",
       "instrument       string\n",
       "subtype          string\n",
       "dynamics         string\n",
       "note             string\n",
       "notes            object\n",
       "tags             object\n",
       "dtype: object"
      ]
     },
     "execution_count": 19,
     "metadata": {},
     "output_type": "execute_result"
    }
   ],
   "source": [
    "df2 = df2.astype({\n",
    "    'url':'string',\n",
    "    'relative_path':'string',\n",
    "    'year':'string',\n",
    "    'group':'string',\n",
    "    'instrument':'string',\n",
    "    'subtype':'string',\n",
    "    'dynamics':'string',\n",
    "    'note':'string'\n",
    "})\n",
    "df2.dtypes"
   ]
  },
  {
   "cell_type": "code",
   "execution_count": 20,
   "id": "c6849c3e-7b31-48dd-abd3-05ccce874cf8",
   "metadata": {
    "tags": []
   },
   "outputs": [
    {
     "data": {
      "text/html": [
       "<div>\n",
       "<style scoped>\n",
       "    .dataframe tbody tr th:only-of-type {\n",
       "        vertical-align: middle;\n",
       "    }\n",
       "\n",
       "    .dataframe tbody tr th {\n",
       "        vertical-align: top;\n",
       "    }\n",
       "\n",
       "    .dataframe thead th {\n",
       "        text-align: right;\n",
       "    }\n",
       "</style>\n",
       "<table border=\"1\" class=\"dataframe\">\n",
       "  <thead>\n",
       "    <tr style=\"text-align: right;\">\n",
       "      <th></th>\n",
       "      <th>url</th>\n",
       "      <th>relative_path</th>\n",
       "      <th>year</th>\n",
       "      <th>group</th>\n",
       "      <th>instrument</th>\n",
       "      <th>subtype</th>\n",
       "      <th>dynamics</th>\n",
       "      <th>note</th>\n",
       "      <th>notes</th>\n",
       "      <th>tags</th>\n",
       "    </tr>\n",
       "  </thead>\n",
       "  <tbody>\n",
       "    <tr>\n",
       "      <th>0</th>\n",
       "      <td>https://theremin.music.uiowa.edu/sound files/MIS/Woodwinds/oboe/Oboe.pp.Bb3B3.aiff</td>\n",
       "      <td>pre2012/woodwinds/oboe/default/Oboe.pp.Bb3B3.aiff</td>\n",
       "      <td>pre2012</td>\n",
       "      <td>woodwinds</td>\n",
       "      <td>oboe</td>\n",
       "      <td>&lt;NA&gt;</td>\n",
       "      <td>pp</td>\n",
       "      <td>Bb3B3</td>\n",
       "      <td>[Bb3, B3]</td>\n",
       "      <td>[Bb3, Bb3B3, B3, oboe, woodwinds]</td>\n",
       "    </tr>\n",
       "    <tr>\n",
       "      <th>1</th>\n",
       "      <td>https://theremin.music.uiowa.edu/sound files/MIS/Woodwinds/oboe/Oboe.pp.C4B4.aiff</td>\n",
       "      <td>pre2012/woodwinds/oboe/default/Oboe.pp.C4B4.aiff</td>\n",
       "      <td>pre2012</td>\n",
       "      <td>woodwinds</td>\n",
       "      <td>oboe</td>\n",
       "      <td>&lt;NA&gt;</td>\n",
       "      <td>pp</td>\n",
       "      <td>C4B4</td>\n",
       "      <td>[C4, B4]</td>\n",
       "      <td>[C4B4, C4, B4, oboe, woodwinds]</td>\n",
       "    </tr>\n",
       "    <tr>\n",
       "      <th>2</th>\n",
       "      <td>https://theremin.music.uiowa.edu/sound files/MIS/Woodwinds/oboe/Oboe.pp.C5B5.aiff</td>\n",
       "      <td>pre2012/woodwinds/oboe/default/Oboe.pp.C5B5.aiff</td>\n",
       "      <td>pre2012</td>\n",
       "      <td>woodwinds</td>\n",
       "      <td>oboe</td>\n",
       "      <td>&lt;NA&gt;</td>\n",
       "      <td>pp</td>\n",
       "      <td>C5B5</td>\n",
       "      <td>[C5, B5]</td>\n",
       "      <td>[C5B5, B5, oboe, woodwinds, C5]</td>\n",
       "    </tr>\n",
       "    <tr>\n",
       "      <th>3</th>\n",
       "      <td>https://theremin.music.uiowa.edu/sound files/MIS/Woodwinds/oboe/Oboe.pp.C6Ab6.aiff</td>\n",
       "      <td>pre2012/woodwinds/oboe/default/Oboe.pp.C6Ab6.aiff</td>\n",
       "      <td>pre2012</td>\n",
       "      <td>woodwinds</td>\n",
       "      <td>oboe</td>\n",
       "      <td>&lt;NA&gt;</td>\n",
       "      <td>pp</td>\n",
       "      <td>C6Ab6</td>\n",
       "      <td>[C6, Ab6]</td>\n",
       "      <td>[Ab6, C6Ab6, C6, oboe, woodwinds]</td>\n",
       "    </tr>\n",
       "    <tr>\n",
       "      <th>4</th>\n",
       "      <td>https://theremin.music.uiowa.edu/sound files/MIS/Woodwinds/oboe/Oboe.mf.Bb3B3.aiff</td>\n",
       "      <td>pre2012/woodwinds/oboe/default/Oboe.mf.Bb3B3.aiff</td>\n",
       "      <td>pre2012</td>\n",
       "      <td>woodwinds</td>\n",
       "      <td>oboe</td>\n",
       "      <td>&lt;NA&gt;</td>\n",
       "      <td>mf</td>\n",
       "      <td>Bb3B3</td>\n",
       "      <td>[Bb3, B3]</td>\n",
       "      <td>[Bb3, Bb3B3, B3, oboe, woodwinds]</td>\n",
       "    </tr>\n",
       "  </tbody>\n",
       "</table>\n",
       "</div>"
      ],
      "text/plain": [
       "                                                                                  url  \\\n",
       "0  https://theremin.music.uiowa.edu/sound files/MIS/Woodwinds/oboe/Oboe.pp.Bb3B3.aiff   \n",
       "1   https://theremin.music.uiowa.edu/sound files/MIS/Woodwinds/oboe/Oboe.pp.C4B4.aiff   \n",
       "2   https://theremin.music.uiowa.edu/sound files/MIS/Woodwinds/oboe/Oboe.pp.C5B5.aiff   \n",
       "3  https://theremin.music.uiowa.edu/sound files/MIS/Woodwinds/oboe/Oboe.pp.C6Ab6.aiff   \n",
       "4  https://theremin.music.uiowa.edu/sound files/MIS/Woodwinds/oboe/Oboe.mf.Bb3B3.aiff   \n",
       "\n",
       "                                       relative_path     year      group  \\\n",
       "0  pre2012/woodwinds/oboe/default/Oboe.pp.Bb3B3.aiff  pre2012  woodwinds   \n",
       "1   pre2012/woodwinds/oboe/default/Oboe.pp.C4B4.aiff  pre2012  woodwinds   \n",
       "2   pre2012/woodwinds/oboe/default/Oboe.pp.C5B5.aiff  pre2012  woodwinds   \n",
       "3  pre2012/woodwinds/oboe/default/Oboe.pp.C6Ab6.aiff  pre2012  woodwinds   \n",
       "4  pre2012/woodwinds/oboe/default/Oboe.mf.Bb3B3.aiff  pre2012  woodwinds   \n",
       "\n",
       "  instrument subtype dynamics   note      notes  \\\n",
       "0       oboe    <NA>       pp  Bb3B3  [Bb3, B3]   \n",
       "1       oboe    <NA>       pp   C4B4   [C4, B4]   \n",
       "2       oboe    <NA>       pp   C5B5   [C5, B5]   \n",
       "3       oboe    <NA>       pp  C6Ab6  [C6, Ab6]   \n",
       "4       oboe    <NA>       mf  Bb3B3  [Bb3, B3]   \n",
       "\n",
       "                                tags  \n",
       "0  [Bb3, Bb3B3, B3, oboe, woodwinds]  \n",
       "1    [C4B4, C4, B4, oboe, woodwinds]  \n",
       "2    [C5B5, B5, oboe, woodwinds, C5]  \n",
       "3  [Ab6, C6Ab6, C6, oboe, woodwinds]  \n",
       "4  [Bb3, Bb3B3, B3, oboe, woodwinds]  "
      ]
     },
     "execution_count": 20,
     "metadata": {},
     "output_type": "execute_result"
    }
   ],
   "source": [
    "df2.head()"
   ]
  },
  {
   "cell_type": "code",
   "execution_count": 24,
   "id": "075b0ee4-d8e2-4525-8f1d-916ef3fcbae9",
   "metadata": {
    "tags": []
   },
   "outputs": [],
   "source": [
    "df2 = df2[~df2['relative_path'].str.contains('html')]"
   ]
  },
  {
   "cell_type": "code",
   "execution_count": 25,
   "id": "5d44efb9-6f85-4e09-8cea-61d3fcd7fd06",
   "metadata": {
    "tags": []
   },
   "outputs": [
    {
     "name": "stdout",
     "output_type": "stream",
     "text": [
      "<class 'pandas.core.frame.DataFrame'>\n",
      "RangeIndex: 3686 entries, 0 to 3685\n",
      "Data columns (total 11 columns):\n",
      " #   Column         Non-Null Count  Dtype \n",
      "---  ------         --------------  ----- \n",
      " 0   index          3686 non-null   int64 \n",
      " 1   url            3686 non-null   string\n",
      " 2   relative_path  3686 non-null   string\n",
      " 3   year           3686 non-null   string\n",
      " 4   group          3686 non-null   string\n",
      " 5   instrument     3686 non-null   string\n",
      " 6   subtype        2935 non-null   string\n",
      " 7   dynamics       3545 non-null   string\n",
      " 8   note           3258 non-null   string\n",
      " 9   notes          3258 non-null   object\n",
      " 10  tags           3686 non-null   object\n",
      "dtypes: int64(1), object(2), string(8)\n",
      "memory usage: 316.9+ KB\n"
     ]
    }
   ],
   "source": [
    "df2 = df2.reset_index()\n",
    "df2.info()"
   ]
  },
  {
   "cell_type": "code",
   "execution_count": 26,
   "id": "6721917c-b947-4f86-b070-21eca87e2d3d",
   "metadata": {
    "tags": []
   },
   "outputs": [],
   "source": [
    "df2.to_csv('output.csv')"
   ]
  },
  {
   "cell_type": "code",
   "execution_count": null,
   "id": "a4ab9b93-fd90-4570-bd69-7007e41cdefa",
   "metadata": {},
   "outputs": [],
   "source": []
  }
 ],
 "metadata": {
  "kernelspec": {
   "display_name": "Python 3 (ipykernel)",
   "language": "python",
   "name": "python3"
  },
  "language_info": {
   "codemirror_mode": {
    "name": "ipython",
    "version": 3
   },
   "file_extension": ".py",
   "mimetype": "text/x-python",
   "name": "python",
   "nbconvert_exporter": "python",
   "pygments_lexer": "ipython3",
   "version": "3.10.0"
  }
 },
 "nbformat": 4,
 "nbformat_minor": 5
}
