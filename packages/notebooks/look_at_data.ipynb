{
 "cells": [
  {
   "cell_type": "code",
   "execution_count": 103,
   "id": "32c6372c-7013-4712-a45a-0bddd8c88ff7",
   "metadata": {
    "tags": []
   },
   "outputs": [],
   "source": [
    "from IPython.core.interactiveshell import InteractiveShell\n",
    "InteractiveShell.ast_node_interactivity = 'all'\n",
    "from pathlib import Path, PurePath\n",
    "import json\n",
    "import pandas as pd\n",
    "pd.set_option('display.max_colwidth', None)\n",
    "pd.set_option('display.max_columns', None)\n",
    "import re"
   ]
  },
  {
   "cell_type": "code",
   "execution_count": 2,
   "id": "df41e5d0-df10-4356-a619-c2ec63867efd",
   "metadata": {
    "tags": []
   },
   "outputs": [
    {
     "data": {
      "text/plain": [
       "PosixPath('../note-spider/data')"
      ]
     },
     "execution_count": 2,
     "metadata": {},
     "output_type": "execute_result"
    }
   ],
   "source": [
    "# path of note sound files\n",
    "pth1 = Path('.') / 'data'\n",
    "pth2 = Path('.') / '..' / 'note-spider' / 'data'\n",
    "data_pth = pth2 if pth2.exists() else pth1\n",
    "if not data_pth.exists():\n",
    "    raise('Cannot find data')\n",
    "data_pth"
   ]
  },
  {
   "cell_type": "code",
   "execution_count": 3,
   "id": "4268010a-02ad-43e0-8735-6e1b0aeb6a5e",
   "metadata": {
    "tags": []
   },
   "outputs": [
    {
     "data": {
      "text/plain": [
       "[{'url': 'https://theremin.music.uiowa.edu/sound files/MIS/Woodwinds/oboe/Oboe.pp.Bb3B3.aiff',\n",
       "  'path': '/Users/origami/Desktop/temp_projects/muse/packages/note-spider/data/pre2012/woodwinds/oboe/default'},\n",
       " {'url': 'https://theremin.music.uiowa.edu/sound files/MIS/Woodwinds/oboe/Oboe.pp.C4B4.aiff',\n",
       "  'path': '/Users/origami/Desktop/temp_projects/muse/packages/note-spider/data/pre2012/woodwinds/oboe/default'},\n",
       " {'url': 'https://theremin.music.uiowa.edu/sound files/MIS/Woodwinds/oboe/Oboe.pp.C5B5.aiff',\n",
       "  'path': '/Users/origami/Desktop/temp_projects/muse/packages/note-spider/data/pre2012/woodwinds/oboe/default'}]"
      ]
     },
     "execution_count": 3,
     "metadata": {},
     "output_type": "execute_result"
    }
   ],
   "source": [
    "file_pth_json = None\n",
    "with open(data_pth / 'urlsAndPath.json') as f:\n",
    "    text = f.read()\n",
    "    file_pth_json = json.loads(text)\n",
    "file_pth_json[:3]"
   ]
  },
  {
   "cell_type": "code",
   "execution_count": 4,
   "id": "8c487704-df28-4128-a9f2-d92f3766c4f3",
   "metadata": {
    "tags": []
   },
   "outputs": [
    {
     "data": {
      "text/html": [
       "<div>\n",
       "<style scoped>\n",
       "    .dataframe tbody tr th:only-of-type {\n",
       "        vertical-align: middle;\n",
       "    }\n",
       "\n",
       "    .dataframe tbody tr th {\n",
       "        vertical-align: top;\n",
       "    }\n",
       "\n",
       "    .dataframe thead th {\n",
       "        text-align: right;\n",
       "    }\n",
       "</style>\n",
       "<table border=\"1\" class=\"dataframe\">\n",
       "  <thead>\n",
       "    <tr style=\"text-align: right;\">\n",
       "      <th></th>\n",
       "      <th>url</th>\n",
       "      <th>path</th>\n",
       "      <th>local_path</th>\n",
       "    </tr>\n",
       "  </thead>\n",
       "  <tbody>\n",
       "    <tr>\n",
       "      <th>0</th>\n",
       "      <td>https://theremin.music.uiowa.edu/sound files/M...</td>\n",
       "      <td>/Users/origami/Desktop/temp_projects/muse/pack...</td>\n",
       "      <td>NaN</td>\n",
       "    </tr>\n",
       "    <tr>\n",
       "      <th>1</th>\n",
       "      <td>https://theremin.music.uiowa.edu/sound files/M...</td>\n",
       "      <td>/Users/origami/Desktop/temp_projects/muse/pack...</td>\n",
       "      <td>NaN</td>\n",
       "    </tr>\n",
       "    <tr>\n",
       "      <th>2</th>\n",
       "      <td>https://theremin.music.uiowa.edu/sound files/M...</td>\n",
       "      <td>/Users/origami/Desktop/temp_projects/muse/pack...</td>\n",
       "      <td>NaN</td>\n",
       "    </tr>\n",
       "    <tr>\n",
       "      <th>3</th>\n",
       "      <td>https://theremin.music.uiowa.edu/sound files/M...</td>\n",
       "      <td>/Users/origami/Desktop/temp_projects/muse/pack...</td>\n",
       "      <td>NaN</td>\n",
       "    </tr>\n",
       "    <tr>\n",
       "      <th>4</th>\n",
       "      <td>https://theremin.music.uiowa.edu/sound files/M...</td>\n",
       "      <td>/Users/origami/Desktop/temp_projects/muse/pack...</td>\n",
       "      <td>NaN</td>\n",
       "    </tr>\n",
       "  </tbody>\n",
       "</table>\n",
       "</div>"
      ],
      "text/plain": [
       "                                                 url  \\\n",
       "0  https://theremin.music.uiowa.edu/sound files/M...   \n",
       "1  https://theremin.music.uiowa.edu/sound files/M...   \n",
       "2  https://theremin.music.uiowa.edu/sound files/M...   \n",
       "3  https://theremin.music.uiowa.edu/sound files/M...   \n",
       "4  https://theremin.music.uiowa.edu/sound files/M...   \n",
       "\n",
       "                                                path local_path  \n",
       "0  /Users/origami/Desktop/temp_projects/muse/pack...        NaN  \n",
       "1  /Users/origami/Desktop/temp_projects/muse/pack...        NaN  \n",
       "2  /Users/origami/Desktop/temp_projects/muse/pack...        NaN  \n",
       "3  /Users/origami/Desktop/temp_projects/muse/pack...        NaN  \n",
       "4  /Users/origami/Desktop/temp_projects/muse/pack...        NaN  "
      ]
     },
     "execution_count": 4,
     "metadata": {},
     "output_type": "execute_result"
    }
   ],
   "source": [
    "file_pth_dict = { 'url': [o['url'] for o in file_pth_json], 'path': [o['path'] for o in file_pth_json] }\n",
    "df = pd.DataFrame(file_pth_dict, columns=['url','path', 'local_path'], index=None)\n",
    "df.head()"
   ]
  },
  {
   "cell_type": "code",
   "execution_count": 40,
   "id": "3662adaf-bca0-4019-8df9-ce92582f79e3",
   "metadata": {
    "tags": []
   },
   "outputs": [],
   "source": [
    "def get_file_path(row):\n",
    "    url, path = row['url'], row['path']\n",
    "    file_name = url.split('/')[-1]\n",
    "    file_path = path + '/' + file_name\n",
    "    return file_path\n",
    "\n",
    "def get_relative_path(row):\n",
    "    local_path = Path(row['local_path'])\n",
    "    relative_path = local_path.relative_to(data_pth.resolve())\n",
    "    return relative_path"
   ]
  },
  {
   "cell_type": "code",
   "execution_count": 41,
   "id": "c3fb2aa7-e640-4fbb-a831-421a3ebae829",
   "metadata": {
    "tags": []
   },
   "outputs": [],
   "source": [
    "df['local_path'] = df.apply(get_file_path, axis=1)\n",
    "df['relative_path'] = df.apply(get_relative_path, axis=1)"
   ]
  },
  {
   "cell_type": "code",
   "execution_count": 33,
   "id": "d64a2e79-3268-4d1b-8708-e9bcb48ab5dd",
   "metadata": {
    "tags": []
   },
   "outputs": [],
   "source": [
    "def check_local_path_exists(row):\n",
    "    local_path = Path(row['local_path'])\n",
    "    if not local_path.exists():\n",
    "        print(row)\n",
    "    return local_path.exists()"
   ]
  },
  {
   "cell_type": "markdown",
   "id": "6c85eb89-19af-4883-b57e-21480735c0dc",
   "metadata": {},
   "source": [
    "### Extract path info\n",
    "group: woodwinds\n",
    "name: oboe\n",
    "type: \n",
    "dynamics: pp, mf , ff"
   ]
  },
  {
   "cell_type": "markdown",
   "id": "72d91666-9da4-4d12-8514-5287f3511663",
   "metadata": {
    "tags": []
   },
   "source": [
    "### 1\n",
    "splash.bow.aif\n",
    "20chinese.bow.aif\n",
    "\n",
    "> No explicit meaning, skip processing\n",
    "\n",
    "### 2\n",
    "Oboe.pp.Bb3B3.aiff\n",
    "\n",
    "> dynamics.note\n",
    "\n",
    "20windgong.bow.stereo.aif\n",
    "\n",
    "### 3\n",
    "\n",
    "*Case 1*: Flute.vib.pp.B3B4.aiff\n",
    "\n",
    "*Case 2*: Vibraphone.bow.Db6.stereo.aif\n",
    "\n",
    "\n",
    "### 4\n",
    "Viola.arco.sulC.pp.C3B3.aiff\n",
    "\n",
    "Vibraphone.shortsustain.ff.F6.stereo.aif\n",
    "\n",
    "\n",
    "### 5\n",
    "\n",
    "Bass.arco.ff.sulE.E1.stereo.aif\n",
    "\n",
    "Xylophone.rosewood.roll.ff.Ab7.stereo.aif"
   ]
  },
  {
   "cell_type": "code",
   "execution_count": 160,
   "id": "5060d886-4723-4e3c-a8cc-35966406a3d9",
   "metadata": {
    "tags": []
   },
   "outputs": [],
   "source": [
    "def get_path_info(row):\n",
    "    relative_path = row['relative_path']\n",
    "    splited = str(relative_path).split('/')\n",
    "    year, group, name, subtype = splited[:-1]\n",
    "    return splited[:-1]\n",
    "\n",
    "def extend_col_year(row):\n",
    "    return get_path_info(row)[0]\n",
    "\n",
    "def extend_col_group(row):\n",
    "    return get_path_info(row)[1]\n",
    "\n",
    "def extend_col_name(row):\n",
    "    return get_path_info(row)[2]\n",
    "\n",
    "def extend_col_subtype(row):\n",
    "    return get_path_info(row)[3]"
   ]
  },
  {
   "cell_type": "code",
   "execution_count": 161,
   "id": "d1af8e43-297f-46ea-a983-c7a531cf5334",
   "metadata": {
    "tags": []
   },
   "outputs": [],
   "source": [
    "df['year'] = df.apply(extend_col_year, axis=1)\n",
    "df['group'] = df.apply(extend_col_group, axis=1)\n",
    "df['instrument'] = df.apply(extend_col_name, axis=1)\n",
    "df['subtype'] = df.apply(extend_col_subtype, axis=1)"
   ]
  },
  {
   "cell_type": "markdown",
   "id": "878cfe1d-0949-4650-b06b-3b25b43f6b3a",
   "metadata": {
    "tags": []
   },
   "source": [
    "#### Extract dynamics, notes"
   ]
  },
  {
   "cell_type": "code",
   "execution_count": 167,
   "id": "d96cb7ea-5216-43ed-87a7-8821813decef",
   "metadata": {
    "tags": []
   },
   "outputs": [],
   "source": [
    "def find_dynamics(strs):\n",
    "    result = []\n",
    "    for s in strs:\n",
    "        res = re.findall(r\"^[pmf]{1,3}$\",s)\n",
    "        result.extend(res)\n",
    "    return result\n",
    "\n",
    "def find_note(strs):\n",
    "    result = []\n",
    "    for s in strs:\n",
    "        res = re.findall(r\"^[A-G]{1,}[A-Gb0-9]{1,}$\",s)\n",
    "        result.extend(res)\n",
    "    return result\n",
    "def extend_col_dynamics(row):\n",
    "    file_path = Path(row['local_path'])\n",
    "    file_name = file_path.name\n",
    "    splited = file_name.split('.')\n",
    "    dynamics = find_dynamics(splited)\n",
    "    if len(dynamics) > 1:\n",
    "        print('Wrong res', dynamics)\n",
    "    if len(dynamics) == 0:\n",
    "        return None\n",
    "    return dynamics[0]\n",
    "\n",
    "def extend_col_note(row):\n",
    "    file_path = Path(row['local_path'])\n",
    "    file_name = file_path.name\n",
    "    splited = file_name.split('.')\n",
    "    note = find_note(splited)\n",
    "    if len(note) > 1:\n",
    "        print('Wrong res', note)\n",
    "    if len(note) == 0:\n",
    "        return None\n",
    "    return note[0]\n",
    "\n",
    "def extend_col_notes(row):\n",
    "    note = row['note']\n",
    "    if note is None:\n",
    "        return note\n",
    "    return re.findall(r\"[A-G]b?[0-9]\", note)"
   ]
  },
  {
   "cell_type": "code",
   "execution_count": 170,
   "id": "6dd74abd-c17d-4429-90e2-8e50665b328f",
   "metadata": {
    "tags": []
   },
   "outputs": [],
   "source": [
    "df['dynamics'] = df.apply(extend_col_dynamics, axis=1)\n",
    "df['note'] = df.apply(extend_col_note, axis=1)\n",
    "df['notes'] = df.apply(extend_col_notes, axis=1)"
   ]
  },
  {
   "cell_type": "code",
   "execution_count": 171,
   "id": "1f02aecf-0e8a-495b-a835-4d928f8a7738",
   "metadata": {
    "tags": []
   },
   "outputs": [
    {
     "data": {
      "text/html": [
       "<div>\n",
       "<style scoped>\n",
       "    .dataframe tbody tr th:only-of-type {\n",
       "        vertical-align: middle;\n",
       "    }\n",
       "\n",
       "    .dataframe tbody tr th {\n",
       "        vertical-align: top;\n",
       "    }\n",
       "\n",
       "    .dataframe thead th {\n",
       "        text-align: right;\n",
       "    }\n",
       "</style>\n",
       "<table border=\"1\" class=\"dataframe\">\n",
       "  <thead>\n",
       "    <tr style=\"text-align: right;\">\n",
       "      <th></th>\n",
       "      <th>dynamics</th>\n",
       "      <th>note</th>\n",
       "      <th>notes</th>\n",
       "      <th>group</th>\n",
       "      <th>instrument</th>\n",
       "      <th>subtype</th>\n",
       "    </tr>\n",
       "  </thead>\n",
       "  <tbody>\n",
       "    <tr>\n",
       "      <th>0</th>\n",
       "      <td>pp</td>\n",
       "      <td>Bb3B3</td>\n",
       "      <td>[Bb3, B3]</td>\n",
       "      <td>woodwinds</td>\n",
       "      <td>oboe</td>\n",
       "      <td>default</td>\n",
       "    </tr>\n",
       "    <tr>\n",
       "      <th>1</th>\n",
       "      <td>pp</td>\n",
       "      <td>C4B4</td>\n",
       "      <td>[C4, B4]</td>\n",
       "      <td>woodwinds</td>\n",
       "      <td>oboe</td>\n",
       "      <td>default</td>\n",
       "    </tr>\n",
       "    <tr>\n",
       "      <th>2</th>\n",
       "      <td>pp</td>\n",
       "      <td>C5B5</td>\n",
       "      <td>[C5, B5]</td>\n",
       "      <td>woodwinds</td>\n",
       "      <td>oboe</td>\n",
       "      <td>default</td>\n",
       "    </tr>\n",
       "    <tr>\n",
       "      <th>3</th>\n",
       "      <td>pp</td>\n",
       "      <td>C6Ab6</td>\n",
       "      <td>[C6, Ab6]</td>\n",
       "      <td>woodwinds</td>\n",
       "      <td>oboe</td>\n",
       "      <td>default</td>\n",
       "    </tr>\n",
       "    <tr>\n",
       "      <th>4</th>\n",
       "      <td>mf</td>\n",
       "      <td>Bb3B3</td>\n",
       "      <td>[Bb3, B3]</td>\n",
       "      <td>woodwinds</td>\n",
       "      <td>oboe</td>\n",
       "      <td>default</td>\n",
       "    </tr>\n",
       "  </tbody>\n",
       "</table>\n",
       "</div>"
      ],
      "text/plain": [
       "  dynamics   note      notes      group instrument  subtype\n",
       "0       pp  Bb3B3  [Bb3, B3]  woodwinds       oboe  default\n",
       "1       pp   C4B4   [C4, B4]  woodwinds       oboe  default\n",
       "2       pp   C5B5   [C5, B5]  woodwinds       oboe  default\n",
       "3       pp  C6Ab6  [C6, Ab6]  woodwinds       oboe  default\n",
       "4       mf  Bb3B3  [Bb3, B3]  woodwinds       oboe  default"
      ]
     },
     "execution_count": 171,
     "metadata": {},
     "output_type": "execute_result"
    }
   ],
   "source": [
    "df[['dynamics', 'note','notes', 'group', 'instrument','subtype']].head()"
   ]
  },
  {
   "cell_type": "markdown",
   "id": "f5a2ccd6-a475-459a-8f4b-e0521a312554",
   "metadata": {},
   "source": [
    "### Tags"
   ]
  },
  {
   "cell_type": "code",
   "execution_count": 176,
   "id": "5e9d63d8-eb11-4f64-ad3c-bf602ff7be7c",
   "metadata": {
    "tags": []
   },
   "outputs": [],
   "source": [
    "def extend_col_tags(row):\n",
    "    group,name, subtype = row['group'],row['instrument'],row['subtype']\n",
    "    note, notes = row['note'], row['notes']\n",
    "    alltags = [group, name]\n",
    "    if subtype != 'default':\n",
    "        alltags.append(subtype)\n",
    "    if note is not None:\n",
    "        alltags.append(note)\n",
    "        alltags.extend(notes)\n",
    "    return alltags\n",
    "    "
   ]
  },
  {
   "cell_type": "code",
   "execution_count": 177,
   "id": "b566db12-1f24-4072-9725-b7277e32e704",
   "metadata": {
    "tags": []
   },
   "outputs": [],
   "source": [
    "df['tags'] = df.apply(extend_col_tags, axis=1)"
   ]
  },
  {
   "cell_type": "code",
   "execution_count": 178,
   "id": "e5fc4d81-9c36-41d2-b459-ba2b4080139d",
   "metadata": {
    "tags": []
   },
   "outputs": [
    {
     "data": {
      "text/html": [
       "<div>\n",
       "<style scoped>\n",
       "    .dataframe tbody tr th:only-of-type {\n",
       "        vertical-align: middle;\n",
       "    }\n",
       "\n",
       "    .dataframe tbody tr th {\n",
       "        vertical-align: top;\n",
       "    }\n",
       "\n",
       "    .dataframe thead th {\n",
       "        text-align: right;\n",
       "    }\n",
       "</style>\n",
       "<table border=\"1\" class=\"dataframe\">\n",
       "  <thead>\n",
       "    <tr style=\"text-align: right;\">\n",
       "      <th></th>\n",
       "      <th>url</th>\n",
       "      <th>path</th>\n",
       "      <th>local_path</th>\n",
       "      <th>relative_path</th>\n",
       "      <th>dynamics</th>\n",
       "      <th>note</th>\n",
       "      <th>year</th>\n",
       "      <th>group</th>\n",
       "      <th>instrument</th>\n",
       "      <th>subtype</th>\n",
       "      <th>notes</th>\n",
       "      <th>tags</th>\n",
       "    </tr>\n",
       "  </thead>\n",
       "  <tbody>\n",
       "    <tr>\n",
       "      <th>0</th>\n",
       "      <td>https://theremin.music.uiowa.edu/sound files/MIS/Woodwinds/oboe/Oboe.pp.Bb3B3.aiff</td>\n",
       "      <td>/Users/origami/Desktop/temp_projects/muse/packages/note-spider/data/pre2012/woodwinds/oboe/default</td>\n",
       "      <td>/Users/origami/Desktop/temp_projects/muse/packages/note-spider/data/pre2012/woodwinds/oboe/default/Oboe.pp.Bb3B3.aiff</td>\n",
       "      <td>pre2012/woodwinds/oboe/default/Oboe.pp.Bb3B3.aiff</td>\n",
       "      <td>pp</td>\n",
       "      <td>Bb3B3</td>\n",
       "      <td>pre2012</td>\n",
       "      <td>woodwinds</td>\n",
       "      <td>oboe</td>\n",
       "      <td>default</td>\n",
       "      <td>[Bb3, B3]</td>\n",
       "      <td>[woodwinds, oboe, Bb3B3, Bb3, B3]</td>\n",
       "    </tr>\n",
       "    <tr>\n",
       "      <th>1</th>\n",
       "      <td>https://theremin.music.uiowa.edu/sound files/MIS/Woodwinds/oboe/Oboe.pp.C4B4.aiff</td>\n",
       "      <td>/Users/origami/Desktop/temp_projects/muse/packages/note-spider/data/pre2012/woodwinds/oboe/default</td>\n",
       "      <td>/Users/origami/Desktop/temp_projects/muse/packages/note-spider/data/pre2012/woodwinds/oboe/default/Oboe.pp.C4B4.aiff</td>\n",
       "      <td>pre2012/woodwinds/oboe/default/Oboe.pp.C4B4.aiff</td>\n",
       "      <td>pp</td>\n",
       "      <td>C4B4</td>\n",
       "      <td>pre2012</td>\n",
       "      <td>woodwinds</td>\n",
       "      <td>oboe</td>\n",
       "      <td>default</td>\n",
       "      <td>[C4, B4]</td>\n",
       "      <td>[woodwinds, oboe, C4B4, C4, B4]</td>\n",
       "    </tr>\n",
       "    <tr>\n",
       "      <th>2</th>\n",
       "      <td>https://theremin.music.uiowa.edu/sound files/MIS/Woodwinds/oboe/Oboe.pp.C5B5.aiff</td>\n",
       "      <td>/Users/origami/Desktop/temp_projects/muse/packages/note-spider/data/pre2012/woodwinds/oboe/default</td>\n",
       "      <td>/Users/origami/Desktop/temp_projects/muse/packages/note-spider/data/pre2012/woodwinds/oboe/default/Oboe.pp.C5B5.aiff</td>\n",
       "      <td>pre2012/woodwinds/oboe/default/Oboe.pp.C5B5.aiff</td>\n",
       "      <td>pp</td>\n",
       "      <td>C5B5</td>\n",
       "      <td>pre2012</td>\n",
       "      <td>woodwinds</td>\n",
       "      <td>oboe</td>\n",
       "      <td>default</td>\n",
       "      <td>[C5, B5]</td>\n",
       "      <td>[woodwinds, oboe, C5B5, C5, B5]</td>\n",
       "    </tr>\n",
       "    <tr>\n",
       "      <th>3</th>\n",
       "      <td>https://theremin.music.uiowa.edu/sound files/MIS/Woodwinds/oboe/Oboe.pp.C6Ab6.aiff</td>\n",
       "      <td>/Users/origami/Desktop/temp_projects/muse/packages/note-spider/data/pre2012/woodwinds/oboe/default</td>\n",
       "      <td>/Users/origami/Desktop/temp_projects/muse/packages/note-spider/data/pre2012/woodwinds/oboe/default/Oboe.pp.C6Ab6.aiff</td>\n",
       "      <td>pre2012/woodwinds/oboe/default/Oboe.pp.C6Ab6.aiff</td>\n",
       "      <td>pp</td>\n",
       "      <td>C6Ab6</td>\n",
       "      <td>pre2012</td>\n",
       "      <td>woodwinds</td>\n",
       "      <td>oboe</td>\n",
       "      <td>default</td>\n",
       "      <td>[C6, Ab6]</td>\n",
       "      <td>[woodwinds, oboe, C6Ab6, C6, Ab6]</td>\n",
       "    </tr>\n",
       "    <tr>\n",
       "      <th>4</th>\n",
       "      <td>https://theremin.music.uiowa.edu/sound files/MIS/Woodwinds/oboe/Oboe.mf.Bb3B3.aiff</td>\n",
       "      <td>/Users/origami/Desktop/temp_projects/muse/packages/note-spider/data/pre2012/woodwinds/oboe/default</td>\n",
       "      <td>/Users/origami/Desktop/temp_projects/muse/packages/note-spider/data/pre2012/woodwinds/oboe/default/Oboe.mf.Bb3B3.aiff</td>\n",
       "      <td>pre2012/woodwinds/oboe/default/Oboe.mf.Bb3B3.aiff</td>\n",
       "      <td>mf</td>\n",
       "      <td>Bb3B3</td>\n",
       "      <td>pre2012</td>\n",
       "      <td>woodwinds</td>\n",
       "      <td>oboe</td>\n",
       "      <td>default</td>\n",
       "      <td>[Bb3, B3]</td>\n",
       "      <td>[woodwinds, oboe, Bb3B3, Bb3, B3]</td>\n",
       "    </tr>\n",
       "  </tbody>\n",
       "</table>\n",
       "</div>"
      ],
      "text/plain": [
       "                                                                                  url  \\\n",
       "0  https://theremin.music.uiowa.edu/sound files/MIS/Woodwinds/oboe/Oboe.pp.Bb3B3.aiff   \n",
       "1   https://theremin.music.uiowa.edu/sound files/MIS/Woodwinds/oboe/Oboe.pp.C4B4.aiff   \n",
       "2   https://theremin.music.uiowa.edu/sound files/MIS/Woodwinds/oboe/Oboe.pp.C5B5.aiff   \n",
       "3  https://theremin.music.uiowa.edu/sound files/MIS/Woodwinds/oboe/Oboe.pp.C6Ab6.aiff   \n",
       "4  https://theremin.music.uiowa.edu/sound files/MIS/Woodwinds/oboe/Oboe.mf.Bb3B3.aiff   \n",
       "\n",
       "                                                                                                 path  \\\n",
       "0  /Users/origami/Desktop/temp_projects/muse/packages/note-spider/data/pre2012/woodwinds/oboe/default   \n",
       "1  /Users/origami/Desktop/temp_projects/muse/packages/note-spider/data/pre2012/woodwinds/oboe/default   \n",
       "2  /Users/origami/Desktop/temp_projects/muse/packages/note-spider/data/pre2012/woodwinds/oboe/default   \n",
       "3  /Users/origami/Desktop/temp_projects/muse/packages/note-spider/data/pre2012/woodwinds/oboe/default   \n",
       "4  /Users/origami/Desktop/temp_projects/muse/packages/note-spider/data/pre2012/woodwinds/oboe/default   \n",
       "\n",
       "                                                                                                              local_path  \\\n",
       "0  /Users/origami/Desktop/temp_projects/muse/packages/note-spider/data/pre2012/woodwinds/oboe/default/Oboe.pp.Bb3B3.aiff   \n",
       "1   /Users/origami/Desktop/temp_projects/muse/packages/note-spider/data/pre2012/woodwinds/oboe/default/Oboe.pp.C4B4.aiff   \n",
       "2   /Users/origami/Desktop/temp_projects/muse/packages/note-spider/data/pre2012/woodwinds/oboe/default/Oboe.pp.C5B5.aiff   \n",
       "3  /Users/origami/Desktop/temp_projects/muse/packages/note-spider/data/pre2012/woodwinds/oboe/default/Oboe.pp.C6Ab6.aiff   \n",
       "4  /Users/origami/Desktop/temp_projects/muse/packages/note-spider/data/pre2012/woodwinds/oboe/default/Oboe.mf.Bb3B3.aiff   \n",
       "\n",
       "                                       relative_path dynamics   note     year  \\\n",
       "0  pre2012/woodwinds/oboe/default/Oboe.pp.Bb3B3.aiff       pp  Bb3B3  pre2012   \n",
       "1   pre2012/woodwinds/oboe/default/Oboe.pp.C4B4.aiff       pp   C4B4  pre2012   \n",
       "2   pre2012/woodwinds/oboe/default/Oboe.pp.C5B5.aiff       pp   C5B5  pre2012   \n",
       "3  pre2012/woodwinds/oboe/default/Oboe.pp.C6Ab6.aiff       pp  C6Ab6  pre2012   \n",
       "4  pre2012/woodwinds/oboe/default/Oboe.mf.Bb3B3.aiff       mf  Bb3B3  pre2012   \n",
       "\n",
       "       group instrument  subtype      notes                               tags  \n",
       "0  woodwinds       oboe  default  [Bb3, B3]  [woodwinds, oboe, Bb3B3, Bb3, B3]  \n",
       "1  woodwinds       oboe  default   [C4, B4]    [woodwinds, oboe, C4B4, C4, B4]  \n",
       "2  woodwinds       oboe  default   [C5, B5]    [woodwinds, oboe, C5B5, C5, B5]  \n",
       "3  woodwinds       oboe  default  [C6, Ab6]  [woodwinds, oboe, C6Ab6, C6, Ab6]  \n",
       "4  woodwinds       oboe  default  [Bb3, B3]  [woodwinds, oboe, Bb3B3, Bb3, B3]  "
      ]
     },
     "execution_count": 178,
     "metadata": {},
     "output_type": "execute_result"
    }
   ],
   "source": [
    "df.head()"
   ]
  },
  {
   "cell_type": "code",
   "execution_count": 181,
   "id": "8fef741f-9ca9-49d0-ac97-6f81079204db",
   "metadata": {
    "tags": []
   },
   "outputs": [],
   "source": [
    "df2 = df.drop(['path','local_path'],axis=1)"
   ]
  },
  {
   "cell_type": "code",
   "execution_count": 182,
   "id": "06b1ef7c-fdbb-44ac-bad1-3ace13e2c35b",
   "metadata": {
    "tags": []
   },
   "outputs": [
    {
     "data": {
      "text/html": [
       "<div>\n",
       "<style scoped>\n",
       "    .dataframe tbody tr th:only-of-type {\n",
       "        vertical-align: middle;\n",
       "    }\n",
       "\n",
       "    .dataframe tbody tr th {\n",
       "        vertical-align: top;\n",
       "    }\n",
       "\n",
       "    .dataframe thead th {\n",
       "        text-align: right;\n",
       "    }\n",
       "</style>\n",
       "<table border=\"1\" class=\"dataframe\">\n",
       "  <thead>\n",
       "    <tr style=\"text-align: right;\">\n",
       "      <th></th>\n",
       "      <th>url</th>\n",
       "      <th>relative_path</th>\n",
       "      <th>dynamics</th>\n",
       "      <th>note</th>\n",
       "      <th>year</th>\n",
       "      <th>group</th>\n",
       "      <th>instrument</th>\n",
       "      <th>subtype</th>\n",
       "      <th>notes</th>\n",
       "      <th>tags</th>\n",
       "    </tr>\n",
       "  </thead>\n",
       "  <tbody>\n",
       "    <tr>\n",
       "      <th>0</th>\n",
       "      <td>https://theremin.music.uiowa.edu/sound files/MIS/Woodwinds/oboe/Oboe.pp.Bb3B3.aiff</td>\n",
       "      <td>pre2012/woodwinds/oboe/default/Oboe.pp.Bb3B3.aiff</td>\n",
       "      <td>pp</td>\n",
       "      <td>Bb3B3</td>\n",
       "      <td>pre2012</td>\n",
       "      <td>woodwinds</td>\n",
       "      <td>oboe</td>\n",
       "      <td>default</td>\n",
       "      <td>[Bb3, B3]</td>\n",
       "      <td>[woodwinds, oboe, Bb3B3, Bb3, B3]</td>\n",
       "    </tr>\n",
       "    <tr>\n",
       "      <th>1</th>\n",
       "      <td>https://theremin.music.uiowa.edu/sound files/MIS/Woodwinds/oboe/Oboe.pp.C4B4.aiff</td>\n",
       "      <td>pre2012/woodwinds/oboe/default/Oboe.pp.C4B4.aiff</td>\n",
       "      <td>pp</td>\n",
       "      <td>C4B4</td>\n",
       "      <td>pre2012</td>\n",
       "      <td>woodwinds</td>\n",
       "      <td>oboe</td>\n",
       "      <td>default</td>\n",
       "      <td>[C4, B4]</td>\n",
       "      <td>[woodwinds, oboe, C4B4, C4, B4]</td>\n",
       "    </tr>\n",
       "    <tr>\n",
       "      <th>2</th>\n",
       "      <td>https://theremin.music.uiowa.edu/sound files/MIS/Woodwinds/oboe/Oboe.pp.C5B5.aiff</td>\n",
       "      <td>pre2012/woodwinds/oboe/default/Oboe.pp.C5B5.aiff</td>\n",
       "      <td>pp</td>\n",
       "      <td>C5B5</td>\n",
       "      <td>pre2012</td>\n",
       "      <td>woodwinds</td>\n",
       "      <td>oboe</td>\n",
       "      <td>default</td>\n",
       "      <td>[C5, B5]</td>\n",
       "      <td>[woodwinds, oboe, C5B5, C5, B5]</td>\n",
       "    </tr>\n",
       "    <tr>\n",
       "      <th>3</th>\n",
       "      <td>https://theremin.music.uiowa.edu/sound files/MIS/Woodwinds/oboe/Oboe.pp.C6Ab6.aiff</td>\n",
       "      <td>pre2012/woodwinds/oboe/default/Oboe.pp.C6Ab6.aiff</td>\n",
       "      <td>pp</td>\n",
       "      <td>C6Ab6</td>\n",
       "      <td>pre2012</td>\n",
       "      <td>woodwinds</td>\n",
       "      <td>oboe</td>\n",
       "      <td>default</td>\n",
       "      <td>[C6, Ab6]</td>\n",
       "      <td>[woodwinds, oboe, C6Ab6, C6, Ab6]</td>\n",
       "    </tr>\n",
       "    <tr>\n",
       "      <th>4</th>\n",
       "      <td>https://theremin.music.uiowa.edu/sound files/MIS/Woodwinds/oboe/Oboe.mf.Bb3B3.aiff</td>\n",
       "      <td>pre2012/woodwinds/oboe/default/Oboe.mf.Bb3B3.aiff</td>\n",
       "      <td>mf</td>\n",
       "      <td>Bb3B3</td>\n",
       "      <td>pre2012</td>\n",
       "      <td>woodwinds</td>\n",
       "      <td>oboe</td>\n",
       "      <td>default</td>\n",
       "      <td>[Bb3, B3]</td>\n",
       "      <td>[woodwinds, oboe, Bb3B3, Bb3, B3]</td>\n",
       "    </tr>\n",
       "  </tbody>\n",
       "</table>\n",
       "</div>"
      ],
      "text/plain": [
       "                                                                                  url  \\\n",
       "0  https://theremin.music.uiowa.edu/sound files/MIS/Woodwinds/oboe/Oboe.pp.Bb3B3.aiff   \n",
       "1   https://theremin.music.uiowa.edu/sound files/MIS/Woodwinds/oboe/Oboe.pp.C4B4.aiff   \n",
       "2   https://theremin.music.uiowa.edu/sound files/MIS/Woodwinds/oboe/Oboe.pp.C5B5.aiff   \n",
       "3  https://theremin.music.uiowa.edu/sound files/MIS/Woodwinds/oboe/Oboe.pp.C6Ab6.aiff   \n",
       "4  https://theremin.music.uiowa.edu/sound files/MIS/Woodwinds/oboe/Oboe.mf.Bb3B3.aiff   \n",
       "\n",
       "                                       relative_path dynamics   note     year  \\\n",
       "0  pre2012/woodwinds/oboe/default/Oboe.pp.Bb3B3.aiff       pp  Bb3B3  pre2012   \n",
       "1   pre2012/woodwinds/oboe/default/Oboe.pp.C4B4.aiff       pp   C4B4  pre2012   \n",
       "2   pre2012/woodwinds/oboe/default/Oboe.pp.C5B5.aiff       pp   C5B5  pre2012   \n",
       "3  pre2012/woodwinds/oboe/default/Oboe.pp.C6Ab6.aiff       pp  C6Ab6  pre2012   \n",
       "4  pre2012/woodwinds/oboe/default/Oboe.mf.Bb3B3.aiff       mf  Bb3B3  pre2012   \n",
       "\n",
       "       group instrument  subtype      notes                               tags  \n",
       "0  woodwinds       oboe  default  [Bb3, B3]  [woodwinds, oboe, Bb3B3, Bb3, B3]  \n",
       "1  woodwinds       oboe  default   [C4, B4]    [woodwinds, oboe, C4B4, C4, B4]  \n",
       "2  woodwinds       oboe  default   [C5, B5]    [woodwinds, oboe, C5B5, C5, B5]  \n",
       "3  woodwinds       oboe  default  [C6, Ab6]  [woodwinds, oboe, C6Ab6, C6, Ab6]  \n",
       "4  woodwinds       oboe  default  [Bb3, B3]  [woodwinds, oboe, Bb3B3, Bb3, B3]  "
      ]
     },
     "execution_count": 182,
     "metadata": {},
     "output_type": "execute_result"
    }
   ],
   "source": [
    "df2.head()"
   ]
  },
  {
   "cell_type": "code",
   "execution_count": 189,
   "id": "ee7c891a-e8a3-4d70-bf3b-c0107cccbeac",
   "metadata": {
    "tags": []
   },
   "outputs": [
    {
     "ename": "KeyError",
     "evalue": "\"None of [Float64Index([nan, nan, nan, nan, nan, nan, nan, nan, nan, nan,\\n              ...\\n              nan, nan, nan, nan, nan, nan, nan, nan, nan, nan],\\n             dtype='float64', length=3687)] are in the [columns]\"",
     "output_type": "error",
     "traceback": [
      "\u001b[0;31m---------------------------------------------------------------------------\u001b[0m",
      "\u001b[0;31mKeyError\u001b[0m                                  Traceback (most recent call last)",
      "Cell \u001b[0;32mIn[189], line 1\u001b[0m\n\u001b[0;32m----> 1\u001b[0m \u001b[43mdf2\u001b[49m\u001b[43m[\u001b[49m\u001b[43mdf2\u001b[49m\u001b[43m[\u001b[49m\u001b[38;5;124;43m'\u001b[39;49m\u001b[38;5;124;43mrelative_path\u001b[39;49m\u001b[38;5;124;43m'\u001b[39;49m\u001b[43m]\u001b[49m\u001b[38;5;241;43m.\u001b[39;49m\u001b[43mstr\u001b[49m\u001b[38;5;241;43m.\u001b[39;49m\u001b[43mcontains\u001b[49m\u001b[43m(\u001b[49m\u001b[38;5;124;43m'\u001b[39;49m\u001b[38;5;124;43mhtml\u001b[39;49m\u001b[38;5;124;43m'\u001b[39;49m\u001b[43m)\u001b[49m\u001b[43m]\u001b[49m\n",
      "File \u001b[0;32m~/opt/miniconda3/envs/3.10/lib/python3.10/site-packages/pandas/core/frame.py:3511\u001b[0m, in \u001b[0;36mDataFrame.__getitem__\u001b[0;34m(self, key)\u001b[0m\n\u001b[1;32m   3509\u001b[0m     \u001b[38;5;28;01mif\u001b[39;00m is_iterator(key):\n\u001b[1;32m   3510\u001b[0m         key \u001b[38;5;241m=\u001b[39m \u001b[38;5;28mlist\u001b[39m(key)\n\u001b[0;32m-> 3511\u001b[0m     indexer \u001b[38;5;241m=\u001b[39m \u001b[38;5;28;43mself\u001b[39;49m\u001b[38;5;241;43m.\u001b[39;49m\u001b[43mcolumns\u001b[49m\u001b[38;5;241;43m.\u001b[39;49m\u001b[43m_get_indexer_strict\u001b[49m\u001b[43m(\u001b[49m\u001b[43mkey\u001b[49m\u001b[43m,\u001b[49m\u001b[43m \u001b[49m\u001b[38;5;124;43m\"\u001b[39;49m\u001b[38;5;124;43mcolumns\u001b[39;49m\u001b[38;5;124;43m\"\u001b[39;49m\u001b[43m)\u001b[49m[\u001b[38;5;241m1\u001b[39m]\n\u001b[1;32m   3513\u001b[0m \u001b[38;5;66;03m# take() does not accept boolean indexers\u001b[39;00m\n\u001b[1;32m   3514\u001b[0m \u001b[38;5;28;01mif\u001b[39;00m \u001b[38;5;28mgetattr\u001b[39m(indexer, \u001b[38;5;124m\"\u001b[39m\u001b[38;5;124mdtype\u001b[39m\u001b[38;5;124m\"\u001b[39m, \u001b[38;5;28;01mNone\u001b[39;00m) \u001b[38;5;241m==\u001b[39m \u001b[38;5;28mbool\u001b[39m:\n",
      "File \u001b[0;32m~/opt/miniconda3/envs/3.10/lib/python3.10/site-packages/pandas/core/indexes/base.py:5782\u001b[0m, in \u001b[0;36mIndex._get_indexer_strict\u001b[0;34m(self, key, axis_name)\u001b[0m\n\u001b[1;32m   5779\u001b[0m \u001b[38;5;28;01melse\u001b[39;00m:\n\u001b[1;32m   5780\u001b[0m     keyarr, indexer, new_indexer \u001b[38;5;241m=\u001b[39m \u001b[38;5;28mself\u001b[39m\u001b[38;5;241m.\u001b[39m_reindex_non_unique(keyarr)\n\u001b[0;32m-> 5782\u001b[0m \u001b[38;5;28;43mself\u001b[39;49m\u001b[38;5;241;43m.\u001b[39;49m\u001b[43m_raise_if_missing\u001b[49m\u001b[43m(\u001b[49m\u001b[43mkeyarr\u001b[49m\u001b[43m,\u001b[49m\u001b[43m \u001b[49m\u001b[43mindexer\u001b[49m\u001b[43m,\u001b[49m\u001b[43m \u001b[49m\u001b[43maxis_name\u001b[49m\u001b[43m)\u001b[49m\n\u001b[1;32m   5784\u001b[0m keyarr \u001b[38;5;241m=\u001b[39m \u001b[38;5;28mself\u001b[39m\u001b[38;5;241m.\u001b[39mtake(indexer)\n\u001b[1;32m   5785\u001b[0m \u001b[38;5;28;01mif\u001b[39;00m \u001b[38;5;28misinstance\u001b[39m(key, Index):\n\u001b[1;32m   5786\u001b[0m     \u001b[38;5;66;03m# GH 42790 - Preserve name from an Index\u001b[39;00m\n",
      "File \u001b[0;32m~/opt/miniconda3/envs/3.10/lib/python3.10/site-packages/pandas/core/indexes/base.py:5842\u001b[0m, in \u001b[0;36mIndex._raise_if_missing\u001b[0;34m(self, key, indexer, axis_name)\u001b[0m\n\u001b[1;32m   5840\u001b[0m     \u001b[38;5;28;01mif\u001b[39;00m use_interval_msg:\n\u001b[1;32m   5841\u001b[0m         key \u001b[38;5;241m=\u001b[39m \u001b[38;5;28mlist\u001b[39m(key)\n\u001b[0;32m-> 5842\u001b[0m     \u001b[38;5;28;01mraise\u001b[39;00m \u001b[38;5;167;01mKeyError\u001b[39;00m(\u001b[38;5;124mf\u001b[39m\u001b[38;5;124m\"\u001b[39m\u001b[38;5;124mNone of [\u001b[39m\u001b[38;5;132;01m{\u001b[39;00mkey\u001b[38;5;132;01m}\u001b[39;00m\u001b[38;5;124m] are in the [\u001b[39m\u001b[38;5;132;01m{\u001b[39;00maxis_name\u001b[38;5;132;01m}\u001b[39;00m\u001b[38;5;124m]\u001b[39m\u001b[38;5;124m\"\u001b[39m)\n\u001b[1;32m   5844\u001b[0m not_found \u001b[38;5;241m=\u001b[39m \u001b[38;5;28mlist\u001b[39m(ensure_index(key)[missing_mask\u001b[38;5;241m.\u001b[39mnonzero()[\u001b[38;5;241m0\u001b[39m]]\u001b[38;5;241m.\u001b[39munique())\n\u001b[1;32m   5845\u001b[0m \u001b[38;5;28;01mraise\u001b[39;00m \u001b[38;5;167;01mKeyError\u001b[39;00m(\u001b[38;5;124mf\u001b[39m\u001b[38;5;124m\"\u001b[39m\u001b[38;5;132;01m{\u001b[39;00mnot_found\u001b[38;5;132;01m}\u001b[39;00m\u001b[38;5;124m not in index\u001b[39m\u001b[38;5;124m\"\u001b[39m)\n",
      "\u001b[0;31mKeyError\u001b[0m: \"None of [Float64Index([nan, nan, nan, nan, nan, nan, nan, nan, nan, nan,\\n              ...\\n              nan, nan, nan, nan, nan, nan, nan, nan, nan, nan],\\n             dtype='float64', length=3687)] are in the [columns]\""
     ]
    }
   ],
   "source": [
    "df2[df2['relative_path'].str.contains('html')]"
   ]
  },
  {
   "cell_type": "code",
   "execution_count": 199,
   "id": "8b8478da-6f49-4824-9224-5c630ba70374",
   "metadata": {
    "tags": []
   },
   "outputs": [
    {
     "data": {
      "text/plain": [
       "url              string\n",
       "relative_path    object\n",
       "dynamics         object\n",
       "note             object\n",
       "year             object\n",
       "group            object\n",
       "instrument       object\n",
       "subtype          object\n",
       "notes            object\n",
       "tags             object\n",
       "dtype: object"
      ]
     },
     "execution_count": 199,
     "metadata": {},
     "output_type": "execute_result"
    }
   ],
   "source": [
    "df2.dtypes"
   ]
  },
  {
   "cell_type": "code",
   "execution_count": 198,
   "id": "5a799eca-98af-4de0-b40c-d2a08e3ae3a5",
   "metadata": {
    "tags": []
   },
   "outputs": [],
   "source": [
    "df2['url'] = df2['url'].astype('string')"
   ]
  },
  {
   "cell_type": "code",
   "execution_count": null,
   "id": "05e2d843-b97f-4b92-9ed2-ee45284b6d9a",
   "metadata": {},
   "outputs": [],
   "source": []
  }
 ],
 "metadata": {
  "kernelspec": {
   "display_name": "Python 3 (ipykernel)",
   "language": "python",
   "name": "python3"
  },
  "language_info": {
   "codemirror_mode": {
    "name": "ipython",
    "version": 3
   },
   "file_extension": ".py",
   "mimetype": "text/x-python",
   "name": "python",
   "nbconvert_exporter": "python",
   "pygments_lexer": "ipython3",
   "version": "3.10.0"
  }
 },
 "nbformat": 4,
 "nbformat_minor": 5
}
