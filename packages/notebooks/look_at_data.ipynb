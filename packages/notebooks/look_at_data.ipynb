{
 "cells": [
  {
   "cell_type": "code",
   "execution_count": 22,
   "id": "32c6372c-7013-4712-a45a-0bddd8c88ff7",
   "metadata": {},
   "outputs": [],
   "source": [
    "from IPython.core.interactiveshell import InteractiveShell\n",
    "InteractiveShell.ast_node_interactivity = 'all'\n",
    "from pathlib import Path\n",
    "import json\n",
    "import pandas as pd"
   ]
  },
  {
   "cell_type": "code",
   "execution_count": 10,
   "id": "df41e5d0-df10-4356-a619-c2ec63867efd",
   "metadata": {
    "tags": []
   },
   "outputs": [
    {
     "data": {
      "text/plain": [
       "PosixPath('../note-spider/data')"
      ]
     },
     "execution_count": 10,
     "metadata": {},
     "output_type": "execute_result"
    }
   ],
   "source": [
    "# path of note sound files\n",
    "pth1 = Path('.') / 'data'\n",
    "pth2 = Path('.') / '..' / 'note-spider' / 'data'\n",
    "data_pth = pth2 if pth2.exists() else pth1\n",
    "if not data_pth.exists():\n",
    "    raise('Cannot find data')\n",
    "data_pth"
   ]
  },
  {
   "cell_type": "code",
   "execution_count": 21,
   "id": "4268010a-02ad-43e0-8735-6e1b0aeb6a5e",
   "metadata": {
    "tags": []
   },
   "outputs": [
    {
     "data": {
      "text/plain": [
       "[{'url': 'https://theremin.music.uiowa.edu/sound files/MIS/Woodwinds/oboe/Oboe.pp.Bb3B3.aiff',\n",
       "  'path': '/Users/origami/Desktop/temp_projects/muse/packages/note-spider/data/pre2012/woodwinds/oboe/default'},\n",
       " {'url': 'https://theremin.music.uiowa.edu/sound files/MIS/Woodwinds/oboe/Oboe.pp.C4B4.aiff',\n",
       "  'path': '/Users/origami/Desktop/temp_projects/muse/packages/note-spider/data/pre2012/woodwinds/oboe/default'},\n",
       " {'url': 'https://theremin.music.uiowa.edu/sound files/MIS/Woodwinds/oboe/Oboe.pp.C5B5.aiff',\n",
       "  'path': '/Users/origami/Desktop/temp_projects/muse/packages/note-spider/data/pre2012/woodwinds/oboe/default'}]"
      ]
     },
     "execution_count": 21,
     "metadata": {},
     "output_type": "execute_result"
    }
   ],
   "source": [
    "file_pth_json = None\n",
    "with open(data_pth / 'urlsAndPath.json') as f:\n",
    "    text = f.read()\n",
    "    file_pth_json = json.loads(text)\n",
    "file_pth_json[:3]"
   ]
  },
  {
   "cell_type": "code",
   "execution_count": 29,
   "id": "8c487704-df28-4128-a9f2-d92f3766c4f3",
   "metadata": {
    "tags": []
   },
   "outputs": [
    {
     "data": {
      "text/html": [
       "<div>\n",
       "<style scoped>\n",
       "    .dataframe tbody tr th:only-of-type {\n",
       "        vertical-align: middle;\n",
       "    }\n",
       "\n",
       "    .dataframe tbody tr th {\n",
       "        vertical-align: top;\n",
       "    }\n",
       "\n",
       "    .dataframe thead th {\n",
       "        text-align: right;\n",
       "    }\n",
       "</style>\n",
       "<table border=\"1\" class=\"dataframe\">\n",
       "  <thead>\n",
       "    <tr style=\"text-align: right;\">\n",
       "      <th></th>\n",
       "      <th>url</th>\n",
       "      <th>path</th>\n",
       "      <th>local_path</th>\n",
       "    </tr>\n",
       "  </thead>\n",
       "  <tbody>\n",
       "    <tr>\n",
       "      <th>0</th>\n",
       "      <td>https://theremin.music.uiowa.edu/sound files/M...</td>\n",
       "      <td>/Users/origami/Desktop/temp_projects/muse/pack...</td>\n",
       "      <td>NaN</td>\n",
       "    </tr>\n",
       "    <tr>\n",
       "      <th>1</th>\n",
       "      <td>https://theremin.music.uiowa.edu/sound files/M...</td>\n",
       "      <td>/Users/origami/Desktop/temp_projects/muse/pack...</td>\n",
       "      <td>NaN</td>\n",
       "    </tr>\n",
       "    <tr>\n",
       "      <th>2</th>\n",
       "      <td>https://theremin.music.uiowa.edu/sound files/M...</td>\n",
       "      <td>/Users/origami/Desktop/temp_projects/muse/pack...</td>\n",
       "      <td>NaN</td>\n",
       "    </tr>\n",
       "    <tr>\n",
       "      <th>3</th>\n",
       "      <td>https://theremin.music.uiowa.edu/sound files/M...</td>\n",
       "      <td>/Users/origami/Desktop/temp_projects/muse/pack...</td>\n",
       "      <td>NaN</td>\n",
       "    </tr>\n",
       "    <tr>\n",
       "      <th>4</th>\n",
       "      <td>https://theremin.music.uiowa.edu/sound files/M...</td>\n",
       "      <td>/Users/origami/Desktop/temp_projects/muse/pack...</td>\n",
       "      <td>NaN</td>\n",
       "    </tr>\n",
       "  </tbody>\n",
       "</table>\n",
       "</div>"
      ],
      "text/plain": [
       "                                                 url  \\\n",
       "0  https://theremin.music.uiowa.edu/sound files/M...   \n",
       "1  https://theremin.music.uiowa.edu/sound files/M...   \n",
       "2  https://theremin.music.uiowa.edu/sound files/M...   \n",
       "3  https://theremin.music.uiowa.edu/sound files/M...   \n",
       "4  https://theremin.music.uiowa.edu/sound files/M...   \n",
       "\n",
       "                                                path local_path  \n",
       "0  /Users/origami/Desktop/temp_projects/muse/pack...        NaN  \n",
       "1  /Users/origami/Desktop/temp_projects/muse/pack...        NaN  \n",
       "2  /Users/origami/Desktop/temp_projects/muse/pack...        NaN  \n",
       "3  /Users/origami/Desktop/temp_projects/muse/pack...        NaN  \n",
       "4  /Users/origami/Desktop/temp_projects/muse/pack...        NaN  "
      ]
     },
     "execution_count": 29,
     "metadata": {},
     "output_type": "execute_result"
    }
   ],
   "source": [
    "file_pth_dict = { 'url': [o['url'] for o in file_pth_json], 'path': [o['path'] for o in file_pth_json] }\n",
    "df = pd.DataFrame(file_pth_dict, columns=['url','path', 'local_path'], index=None)\n",
    "df.head()"
   ]
  },
  {
   "cell_type": "code",
   "execution_count": 41,
   "id": "3662adaf-bca0-4019-8df9-ce92582f79e3",
   "metadata": {
    "tags": []
   },
   "outputs": [],
   "source": [
    "def get_file_path(row):\n",
    "    url, path = row['url'], row['path']\n",
    "    file_name = url.split('/')[-1]\n",
    "    file_path = path + '/' + file_name\n",
    "    return file_path"
   ]
  },
  {
   "cell_type": "code",
   "execution_count": 42,
   "id": "c3fb2aa7-e640-4fbb-a831-421a3ebae829",
   "metadata": {
    "tags": []
   },
   "outputs": [],
   "source": [
    "df['local_path'] = df.apply(get_file_path, axis=1)"
   ]
  },
  {
   "cell_type": "code",
   "execution_count": 44,
   "id": "d64a2e79-3268-4d1b-8708-e9bcb48ab5dd",
   "metadata": {
    "tags": []
   },
   "outputs": [],
   "source": [
    "def check_local_path_exists(row):\n",
    "    local_path = Path(row['local_path'])\n",
    "    if not local_path.exists():\n",
    "        print(local_path)"
   ]
  },
  {
   "cell_type": "code",
   "execution_count": 46,
   "id": "93ded546-7c33-4343-8af2-0f86458085b8",
   "metadata": {
    "tags": []
   },
   "outputs": [],
   "source": [
    "pth = Path('/Users/origami/Desktop/temp_projects/muse/packages/note-spider/data/pre2012/woodwinds/oboe/default/Oboe.pp.Bb3B3.aiff')"
   ]
  },
  {
   "cell_type": "code",
   "execution_count": 47,
   "id": "2086f322-51fd-41b3-b6f7-8b1cfe8841b0",
   "metadata": {
    "tags": []
   },
   "outputs": [
    {
     "data": {
      "text/plain": [
       "PosixPath('/Users/origami/Desktop/temp_projects/muse/packages/note-spider/data/pre2012/woodwinds/oboe/default/Oboe.pp.Bb3B3.aiff')"
      ]
     },
     "execution_count": 47,
     "metadata": {},
     "output_type": "execute_result"
    }
   ],
   "source": [
    "pth"
   ]
  },
  {
   "cell_type": "code",
   "execution_count": 48,
   "id": "6dd1d007-4435-45b1-84a8-c96e4b376906",
   "metadata": {
    "tags": []
   },
   "outputs": [
    {
     "data": {
      "text/plain": [
       "False"
      ]
     },
     "execution_count": 48,
     "metadata": {},
     "output_type": "execute_result"
    }
   ],
   "source": [
    "pth.exists()"
   ]
  },
  {
   "cell_type": "code",
   "execution_count": null,
   "id": "0e8d429c-c6b8-4be4-a18e-41d6180144b8",
   "metadata": {},
   "outputs": [],
   "source": []
  }
 ],
 "metadata": {
  "kernelspec": {
   "display_name": "Python 3 (ipykernel)",
   "language": "python",
   "name": "python3"
  },
  "language_info": {
   "codemirror_mode": {
    "name": "ipython",
    "version": 3
   },
   "file_extension": ".py",
   "mimetype": "text/x-python",
   "name": "python",
   "nbconvert_exporter": "python",
   "pygments_lexer": "ipython3",
   "version": "3.9.7"
  }
 },
 "nbformat": 4,
 "nbformat_minor": 5
}
